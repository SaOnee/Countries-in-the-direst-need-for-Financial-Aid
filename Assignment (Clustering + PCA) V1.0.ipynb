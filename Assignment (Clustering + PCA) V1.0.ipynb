{
 "cells": [
  {
   "cell_type": "code",
   "execution_count": 1,
   "metadata": {},
   "outputs": [],
   "source": [
    "# Importing the libraries:\n",
    "import numpy as np\n",
    "import pandas as pd\n",
    "import matplotlib.pyplot as plt\n",
    "import seaborn as sns"
   ]
  },
  {
   "cell_type": "code",
   "execution_count": 2,
   "metadata": {},
   "outputs": [
    {
     "data": {
      "text/html": [
       "<div>\n",
       "<style scoped>\n",
       "    .dataframe tbody tr th:only-of-type {\n",
       "        vertical-align: middle;\n",
       "    }\n",
       "\n",
       "    .dataframe tbody tr th {\n",
       "        vertical-align: top;\n",
       "    }\n",
       "\n",
       "    .dataframe thead th {\n",
       "        text-align: right;\n",
       "    }\n",
       "</style>\n",
       "<table border=\"1\" class=\"dataframe\">\n",
       "  <thead>\n",
       "    <tr style=\"text-align: right;\">\n",
       "      <th></th>\n",
       "      <th>country</th>\n",
       "      <th>child_mort</th>\n",
       "      <th>exports</th>\n",
       "      <th>health</th>\n",
       "      <th>imports</th>\n",
       "      <th>income</th>\n",
       "      <th>inflation</th>\n",
       "      <th>life_expec</th>\n",
       "      <th>total_fer</th>\n",
       "      <th>gdpp</th>\n",
       "    </tr>\n",
       "  </thead>\n",
       "  <tbody>\n",
       "    <tr>\n",
       "      <th>0</th>\n",
       "      <td>Afghanistan</td>\n",
       "      <td>90.2</td>\n",
       "      <td>10.0</td>\n",
       "      <td>7.58</td>\n",
       "      <td>44.9</td>\n",
       "      <td>1610</td>\n",
       "      <td>9.44</td>\n",
       "      <td>56.2</td>\n",
       "      <td>5.82</td>\n",
       "      <td>553</td>\n",
       "    </tr>\n",
       "    <tr>\n",
       "      <th>1</th>\n",
       "      <td>Albania</td>\n",
       "      <td>16.6</td>\n",
       "      <td>28.0</td>\n",
       "      <td>6.55</td>\n",
       "      <td>48.6</td>\n",
       "      <td>9930</td>\n",
       "      <td>4.49</td>\n",
       "      <td>76.3</td>\n",
       "      <td>1.65</td>\n",
       "      <td>4090</td>\n",
       "    </tr>\n",
       "    <tr>\n",
       "      <th>2</th>\n",
       "      <td>Algeria</td>\n",
       "      <td>27.3</td>\n",
       "      <td>38.4</td>\n",
       "      <td>4.17</td>\n",
       "      <td>31.4</td>\n",
       "      <td>12900</td>\n",
       "      <td>16.10</td>\n",
       "      <td>76.5</td>\n",
       "      <td>2.89</td>\n",
       "      <td>4460</td>\n",
       "    </tr>\n",
       "    <tr>\n",
       "      <th>3</th>\n",
       "      <td>Angola</td>\n",
       "      <td>119.0</td>\n",
       "      <td>62.3</td>\n",
       "      <td>2.85</td>\n",
       "      <td>42.9</td>\n",
       "      <td>5900</td>\n",
       "      <td>22.40</td>\n",
       "      <td>60.1</td>\n",
       "      <td>6.16</td>\n",
       "      <td>3530</td>\n",
       "    </tr>\n",
       "    <tr>\n",
       "      <th>4</th>\n",
       "      <td>Antigua and Barbuda</td>\n",
       "      <td>10.3</td>\n",
       "      <td>45.5</td>\n",
       "      <td>6.03</td>\n",
       "      <td>58.9</td>\n",
       "      <td>19100</td>\n",
       "      <td>1.44</td>\n",
       "      <td>76.8</td>\n",
       "      <td>2.13</td>\n",
       "      <td>12200</td>\n",
       "    </tr>\n",
       "  </tbody>\n",
       "</table>\n",
       "</div>"
      ],
      "text/plain": [
       "               country  child_mort  exports  health  imports  income  \\\n",
       "0          Afghanistan        90.2     10.0    7.58     44.9    1610   \n",
       "1              Albania        16.6     28.0    6.55     48.6    9930   \n",
       "2              Algeria        27.3     38.4    4.17     31.4   12900   \n",
       "3               Angola       119.0     62.3    2.85     42.9    5900   \n",
       "4  Antigua and Barbuda        10.3     45.5    6.03     58.9   19100   \n",
       "\n",
       "   inflation  life_expec  total_fer   gdpp  \n",
       "0       9.44        56.2       5.82    553  \n",
       "1       4.49        76.3       1.65   4090  \n",
       "2      16.10        76.5       2.89   4460  \n",
       "3      22.40        60.1       6.16   3530  \n",
       "4       1.44        76.8       2.13  12200  "
      ]
     },
     "execution_count": 2,
     "metadata": {},
     "output_type": "execute_result"
    }
   ],
   "source": [
    "# Reading in the data:\n",
    "countries = pd.read_csv('Country-data.csv')\n",
    "countries.head()"
   ]
  },
  {
   "cell_type": "code",
   "execution_count": 3,
   "metadata": {},
   "outputs": [
    {
     "data": {
      "text/plain": [
       "(167, 10)"
      ]
     },
     "execution_count": 3,
     "metadata": {},
     "output_type": "execute_result"
    }
   ],
   "source": [
    "countries.shape"
   ]
  },
  {
   "cell_type": "markdown",
   "metadata": {},
   "source": [
    "## Cleaning the DataFrame:"
   ]
  },
  {
   "cell_type": "code",
   "execution_count": 4,
   "metadata": {},
   "outputs": [
    {
     "name": "stdout",
     "output_type": "stream",
     "text": [
      "<class 'pandas.core.frame.DataFrame'>\n",
      "RangeIndex: 167 entries, 0 to 166\n",
      "Data columns (total 10 columns):\n",
      "country       167 non-null object\n",
      "child_mort    167 non-null float64\n",
      "exports       167 non-null float64\n",
      "health        167 non-null float64\n",
      "imports       167 non-null float64\n",
      "income        167 non-null int64\n",
      "inflation     167 non-null float64\n",
      "life_expec    167 non-null float64\n",
      "total_fer     167 non-null float64\n",
      "gdpp          167 non-null int64\n",
      "dtypes: float64(7), int64(2), object(1)\n",
      "memory usage: 13.1+ KB\n"
     ]
    }
   ],
   "source": [
    "# Checking the datatypes of each of the columns:\n",
    "countries.info()"
   ]
  },
  {
   "cell_type": "markdown",
   "metadata": {},
   "source": [
    "The datatypes of all the columns look ok."
   ]
  },
  {
   "cell_type": "code",
   "execution_count": 5,
   "metadata": {},
   "outputs": [
    {
     "data": {
      "text/plain": [
       "country       0\n",
       "child_mort    0\n",
       "exports       0\n",
       "health        0\n",
       "imports       0\n",
       "income        0\n",
       "inflation     0\n",
       "life_expec    0\n",
       "total_fer     0\n",
       "gdpp          0\n",
       "dtype: int64"
      ]
     },
     "execution_count": 5,
     "metadata": {},
     "output_type": "execute_result"
    }
   ],
   "source": [
    "# Checking for null values:\n",
    "countries.isnull().sum(axis='rows')"
   ]
  },
  {
   "cell_type": "code",
   "execution_count": 6,
   "metadata": {},
   "outputs": [
    {
     "data": {
      "text/html": [
       "<div>\n",
       "<style scoped>\n",
       "    .dataframe tbody tr th:only-of-type {\n",
       "        vertical-align: middle;\n",
       "    }\n",
       "\n",
       "    .dataframe tbody tr th {\n",
       "        vertical-align: top;\n",
       "    }\n",
       "\n",
       "    .dataframe thead th {\n",
       "        text-align: right;\n",
       "    }\n",
       "</style>\n",
       "<table border=\"1\" class=\"dataframe\">\n",
       "  <thead>\n",
       "    <tr style=\"text-align: right;\">\n",
       "      <th></th>\n",
       "      <th>country</th>\n",
       "      <th>child_mort</th>\n",
       "      <th>exports</th>\n",
       "      <th>health</th>\n",
       "      <th>imports</th>\n",
       "      <th>income</th>\n",
       "      <th>inflation</th>\n",
       "      <th>life_expec</th>\n",
       "      <th>total_fer</th>\n",
       "      <th>gdpp</th>\n",
       "    </tr>\n",
       "  </thead>\n",
       "  <tbody>\n",
       "    <tr>\n",
       "      <th>0</th>\n",
       "      <td>Afghanistan</td>\n",
       "      <td>90.2</td>\n",
       "      <td>55.30</td>\n",
       "      <td>41.9174</td>\n",
       "      <td>248.297</td>\n",
       "      <td>1610</td>\n",
       "      <td>9.44</td>\n",
       "      <td>56.2</td>\n",
       "      <td>5.82</td>\n",
       "      <td>553</td>\n",
       "    </tr>\n",
       "    <tr>\n",
       "      <th>1</th>\n",
       "      <td>Albania</td>\n",
       "      <td>16.6</td>\n",
       "      <td>1145.20</td>\n",
       "      <td>267.8950</td>\n",
       "      <td>1987.740</td>\n",
       "      <td>9930</td>\n",
       "      <td>4.49</td>\n",
       "      <td>76.3</td>\n",
       "      <td>1.65</td>\n",
       "      <td>4090</td>\n",
       "    </tr>\n",
       "    <tr>\n",
       "      <th>2</th>\n",
       "      <td>Algeria</td>\n",
       "      <td>27.3</td>\n",
       "      <td>1712.64</td>\n",
       "      <td>185.9820</td>\n",
       "      <td>1400.440</td>\n",
       "      <td>12900</td>\n",
       "      <td>16.10</td>\n",
       "      <td>76.5</td>\n",
       "      <td>2.89</td>\n",
       "      <td>4460</td>\n",
       "    </tr>\n",
       "    <tr>\n",
       "      <th>3</th>\n",
       "      <td>Angola</td>\n",
       "      <td>119.0</td>\n",
       "      <td>2199.19</td>\n",
       "      <td>100.6050</td>\n",
       "      <td>1514.370</td>\n",
       "      <td>5900</td>\n",
       "      <td>22.40</td>\n",
       "      <td>60.1</td>\n",
       "      <td>6.16</td>\n",
       "      <td>3530</td>\n",
       "    </tr>\n",
       "    <tr>\n",
       "      <th>4</th>\n",
       "      <td>Antigua and Barbuda</td>\n",
       "      <td>10.3</td>\n",
       "      <td>5551.00</td>\n",
       "      <td>735.6600</td>\n",
       "      <td>7185.800</td>\n",
       "      <td>19100</td>\n",
       "      <td>1.44</td>\n",
       "      <td>76.8</td>\n",
       "      <td>2.13</td>\n",
       "      <td>12200</td>\n",
       "    </tr>\n",
       "  </tbody>\n",
       "</table>\n",
       "</div>"
      ],
      "text/plain": [
       "               country  child_mort  exports    health   imports  income  \\\n",
       "0          Afghanistan        90.2    55.30   41.9174   248.297    1610   \n",
       "1              Albania        16.6  1145.20  267.8950  1987.740    9930   \n",
       "2              Algeria        27.3  1712.64  185.9820  1400.440   12900   \n",
       "3               Angola       119.0  2199.19  100.6050  1514.370    5900   \n",
       "4  Antigua and Barbuda        10.3  5551.00  735.6600  7185.800   19100   \n",
       "\n",
       "   inflation  life_expec  total_fer   gdpp  \n",
       "0       9.44        56.2       5.82    553  \n",
       "1       4.49        76.3       1.65   4090  \n",
       "2      16.10        76.5       2.89   4460  \n",
       "3      22.40        60.1       6.16   3530  \n",
       "4       1.44        76.8       2.13  12200  "
      ]
     },
     "execution_count": 6,
     "metadata": {},
     "output_type": "execute_result"
    }
   ],
   "source": [
    "# From the data dictionary it can be seen that the columns 'Exports', 'Imports' and 'Health' are given as \n",
    "# percentage of the GDP and therefore they need to be converted into the actual numerical values.\n",
    "# This is done because the percentage values can be misleading.\n",
    "\n",
    "# Exports:\n",
    "countries['exports'] = countries['exports']*countries['gdpp']/100\n",
    "\n",
    "# Imports:\n",
    "countries['imports'] = countries['imports']*countries['gdpp']/100\n",
    "\n",
    "# Health:\n",
    "countries['health'] = countries['health']*countries['gdpp']/100\n",
    "\n",
    "countries.head()"
   ]
  },
  {
   "cell_type": "markdown",
   "metadata": {},
   "source": [
    "## Outlier Analysis:"
   ]
  },
  {
   "cell_type": "code",
   "execution_count": 7,
   "metadata": {},
   "outputs": [
    {
     "data": {
      "text/plain": [
       "Index(['country', 'child_mort', 'exports', 'health', 'imports', 'income',\n",
       "       'inflation', 'life_expec', 'total_fer', 'gdpp'],\n",
       "      dtype='object')"
      ]
     },
     "execution_count": 7,
     "metadata": {},
     "output_type": "execute_result"
    }
   ],
   "source": [
    "# List of all the columns of the dataset:\n",
    "countries.columns"
   ]
  },
  {
   "cell_type": "code",
   "execution_count": 8,
   "metadata": {},
   "outputs": [
    {
     "name": "stdout",
     "output_type": "stream",
     "text": [
      "0.00      2.60\n",
      "0.25      8.25\n",
      "0.50     19.30\n",
      "0.75     62.10\n",
      "0.90    100.22\n",
      "0.95    116.00\n",
      "0.98    145.16\n",
      "0.99    153.40\n",
      "1.00    208.00\n",
      "Name: child_mort, dtype: float64\n"
     ]
    },
    {
     "data": {
      "image/png": "[encoded data removed]",
      "text/plain": [
       "<Figure size 432x288 with 1 Axes>"
      ]
     },
     "metadata": {
      "needs_background": "light"
     },
     "output_type": "display_data"
    }
   ],
   "source": [
    "# Child_Mort:\n",
    "sns.boxplot(x='child_mort', data = countries)\n",
    "print(countries['child_mort'].quantile([0,0.25,0.5, 0.75, 0.90, 0.95, 0.98, 0.99, 1]))"
   ]
  },
  {
   "cell_type": "markdown",
   "metadata": {},
   "source": [
    "We can see that there are a significant number of outliers for **Child_Mort** column.<br>\n",
    "Let us take a look at the outliers."
   ]
  },
  {
   "cell_type": "code",
   "execution_count": 9,
   "metadata": {},
   "outputs": [
    {
     "data": {
      "text/html": [
       "<div>\n",
       "<style scoped>\n",
       "    .dataframe tbody tr th:only-of-type {\n",
       "        vertical-align: middle;\n",
       "    }\n",
       "\n",
       "    .dataframe tbody tr th {\n",
       "        vertical-align: top;\n",
       "    }\n",
       "\n",
       "    .dataframe thead th {\n",
       "        text-align: right;\n",
       "    }\n",
       "</style>\n",
       "<table border=\"1\" class=\"dataframe\">\n",
       "  <thead>\n",
       "    <tr style=\"text-align: right;\">\n",
       "      <th></th>\n",
       "      <th>country</th>\n",
       "      <th>child_mort</th>\n",
       "      <th>exports</th>\n",
       "      <th>health</th>\n",
       "      <th>imports</th>\n",
       "      <th>income</th>\n",
       "      <th>inflation</th>\n",
       "      <th>life_expec</th>\n",
       "      <th>total_fer</th>\n",
       "      <th>gdpp</th>\n",
       "    </tr>\n",
       "  </thead>\n",
       "  <tbody>\n",
       "    <tr>\n",
       "      <th>3</th>\n",
       "      <td>Angola</td>\n",
       "      <td>119.0</td>\n",
       "      <td>2199.190</td>\n",
       "      <td>100.6050</td>\n",
       "      <td>1514.370</td>\n",
       "      <td>5900</td>\n",
       "      <td>22.40</td>\n",
       "      <td>60.1</td>\n",
       "      <td>6.16</td>\n",
       "      <td>3530</td>\n",
       "    </tr>\n",
       "    <tr>\n",
       "      <th>31</th>\n",
       "      <td>Central African Republic</td>\n",
       "      <td>149.0</td>\n",
       "      <td>52.628</td>\n",
       "      <td>17.7508</td>\n",
       "      <td>118.190</td>\n",
       "      <td>888</td>\n",
       "      <td>2.01</td>\n",
       "      <td>47.5</td>\n",
       "      <td>5.21</td>\n",
       "      <td>446</td>\n",
       "    </tr>\n",
       "    <tr>\n",
       "      <th>32</th>\n",
       "      <td>Chad</td>\n",
       "      <td>150.0</td>\n",
       "      <td>330.096</td>\n",
       "      <td>40.6341</td>\n",
       "      <td>390.195</td>\n",
       "      <td>1930</td>\n",
       "      <td>6.39</td>\n",
       "      <td>56.5</td>\n",
       "      <td>6.59</td>\n",
       "      <td>897</td>\n",
       "    </tr>\n",
       "    <tr>\n",
       "      <th>66</th>\n",
       "      <td>Haiti</td>\n",
       "      <td>208.0</td>\n",
       "      <td>101.286</td>\n",
       "      <td>45.7442</td>\n",
       "      <td>428.314</td>\n",
       "      <td>1500</td>\n",
       "      <td>5.45</td>\n",
       "      <td>32.1</td>\n",
       "      <td>3.33</td>\n",
       "      <td>662</td>\n",
       "    </tr>\n",
       "    <tr>\n",
       "      <th>97</th>\n",
       "      <td>Mali</td>\n",
       "      <td>137.0</td>\n",
       "      <td>161.424</td>\n",
       "      <td>35.2584</td>\n",
       "      <td>248.508</td>\n",
       "      <td>1870</td>\n",
       "      <td>4.37</td>\n",
       "      <td>59.5</td>\n",
       "      <td>6.55</td>\n",
       "      <td>708</td>\n",
       "    </tr>\n",
       "    <tr>\n",
       "      <th>112</th>\n",
       "      <td>Niger</td>\n",
       "      <td>123.0</td>\n",
       "      <td>77.256</td>\n",
       "      <td>17.9568</td>\n",
       "      <td>170.868</td>\n",
       "      <td>814</td>\n",
       "      <td>2.55</td>\n",
       "      <td>58.8</td>\n",
       "      <td>7.49</td>\n",
       "      <td>348</td>\n",
       "    </tr>\n",
       "    <tr>\n",
       "      <th>113</th>\n",
       "      <td>Nigeria</td>\n",
       "      <td>130.0</td>\n",
       "      <td>589.490</td>\n",
       "      <td>118.1310</td>\n",
       "      <td>405.420</td>\n",
       "      <td>5150</td>\n",
       "      <td>104.00</td>\n",
       "      <td>60.5</td>\n",
       "      <td>5.84</td>\n",
       "      <td>2330</td>\n",
       "    </tr>\n",
       "    <tr>\n",
       "      <th>132</th>\n",
       "      <td>Sierra Leone</td>\n",
       "      <td>160.0</td>\n",
       "      <td>67.032</td>\n",
       "      <td>52.2690</td>\n",
       "      <td>137.655</td>\n",
       "      <td>1220</td>\n",
       "      <td>17.20</td>\n",
       "      <td>55.0</td>\n",
       "      <td>5.20</td>\n",
       "      <td>399</td>\n",
       "    </tr>\n",
       "  </tbody>\n",
       "</table>\n",
       "</div>"
      ],
      "text/plain": [
       "                      country  child_mort   exports    health   imports  \\\n",
       "3                      Angola       119.0  2199.190  100.6050  1514.370   \n",
       "31   Central African Republic       149.0    52.628   17.7508   118.190   \n",
       "32                       Chad       150.0   330.096   40.6341   390.195   \n",
       "66                      Haiti       208.0   101.286   45.7442   428.314   \n",
       "97                       Mali       137.0   161.424   35.2584   248.508   \n",
       "112                     Niger       123.0    77.256   17.9568   170.868   \n",
       "113                   Nigeria       130.0   589.490  118.1310   405.420   \n",
       "132              Sierra Leone       160.0    67.032   52.2690   137.655   \n",
       "\n",
       "     income  inflation  life_expec  total_fer  gdpp  \n",
       "3      5900      22.40        60.1       6.16  3530  \n",
       "31      888       2.01        47.5       5.21   446  \n",
       "32     1930       6.39        56.5       6.59   897  \n",
       "66     1500       5.45        32.1       3.33   662  \n",
       "97     1870       4.37        59.5       6.55   708  \n",
       "112     814       2.55        58.8       7.49   348  \n",
       "113    5150     104.00        60.5       5.84  2330  \n",
       "132    1220      17.20        55.0       5.20   399  "
      ]
     },
     "execution_count": 9,
     "metadata": {},
     "output_type": "execute_result"
    }
   ],
   "source": [
    "countries[countries['child_mort'] > 116] # greater than 95 percentile"
   ]
  },
  {
   "cell_type": "markdown",
   "metadata": {},
   "source": [
    "The 8 countries listed above seem to be underdeveloped on account of their high child mortality rate and therefore it will be a huge loss for us wrt to information if we were to remove it now.<br>\n",
    "Let us proceed with other columns."
   ]
  },
  {
   "cell_type": "code",
   "execution_count": 10,
   "metadata": {},
   "outputs": [
    {
     "name": "stdout",
     "output_type": "stream",
     "text": [
      "0.00         1.07692\n",
      "0.25       447.14000\n",
      "0.50      1777.44000\n",
      "0.75      7278.00000\n",
      "0.90     17760.60000\n",
      "0.95     31385.10000\n",
      "0.98     46480.92800\n",
      "0.99     64794.26000\n",
      "1.00    183750.00000\n",
      "Name: exports, dtype: float64\n"
     ]
    },
    {
     "data": {
      "image/png": "[encoded data removed]",
      "text/plain": [
       "<Figure size 432x288 with 1 Axes>"
      ]
     },
     "metadata": {
      "needs_background": "light"
     },
     "output_type": "display_data"
    }
   ],
   "source": [
    "# Exports:\n",
    "sns.boxplot(countries['exports'])\n",
    "print(countries['exports'].quantile([0, 0.25, 0.50, 0.75, 0.90, 0.95, 0.98, 0.99, 1]))"
   ]
  },
  {
   "cell_type": "markdown",
   "metadata": {},
   "source": [
    "It can be seen that the values have a significant increase from the 98th to 99th percentile. <br>\n",
    "Let us take a look at these values."
   ]
  },
  {
   "cell_type": "code",
   "execution_count": 11,
   "metadata": {},
   "outputs": [
    {
     "data": {
      "text/html": [
       "<div>\n",
       "<style scoped>\n",
       "    .dataframe tbody tr th:only-of-type {\n",
       "        vertical-align: middle;\n",
       "    }\n",
       "\n",
       "    .dataframe tbody tr th {\n",
       "        vertical-align: top;\n",
       "    }\n",
       "\n",
       "    .dataframe thead th {\n",
       "        text-align: right;\n",
       "    }\n",
       "</style>\n",
       "<table border=\"1\" class=\"dataframe\">\n",
       "  <thead>\n",
       "    <tr style=\"text-align: right;\">\n",
       "      <th></th>\n",
       "      <th>country</th>\n",
       "      <th>child_mort</th>\n",
       "      <th>exports</th>\n",
       "      <th>health</th>\n",
       "      <th>imports</th>\n",
       "      <th>income</th>\n",
       "      <th>inflation</th>\n",
       "      <th>life_expec</th>\n",
       "      <th>total_fer</th>\n",
       "      <th>gdpp</th>\n",
       "    </tr>\n",
       "  </thead>\n",
       "  <tbody>\n",
       "    <tr>\n",
       "      <th>91</th>\n",
       "      <td>Luxembourg</td>\n",
       "      <td>2.8</td>\n",
       "      <td>183750.0</td>\n",
       "      <td>8158.50</td>\n",
       "      <td>149100.0</td>\n",
       "      <td>91700</td>\n",
       "      <td>3.620</td>\n",
       "      <td>81.3</td>\n",
       "      <td>1.63</td>\n",
       "      <td>105000</td>\n",
       "    </tr>\n",
       "    <tr>\n",
       "      <th>133</th>\n",
       "      <td>Singapore</td>\n",
       "      <td>2.8</td>\n",
       "      <td>93200.0</td>\n",
       "      <td>1845.36</td>\n",
       "      <td>81084.0</td>\n",
       "      <td>72100</td>\n",
       "      <td>-0.046</td>\n",
       "      <td>82.7</td>\n",
       "      <td>1.15</td>\n",
       "      <td>46600</td>\n",
       "    </tr>\n",
       "    <tr>\n",
       "      <th>73</th>\n",
       "      <td>Ireland</td>\n",
       "      <td>4.2</td>\n",
       "      <td>50161.0</td>\n",
       "      <td>4475.53</td>\n",
       "      <td>42125.5</td>\n",
       "      <td>45700</td>\n",
       "      <td>-3.220</td>\n",
       "      <td>80.4</td>\n",
       "      <td>2.05</td>\n",
       "      <td>48700</td>\n",
       "    </tr>\n",
       "    <tr>\n",
       "      <th>145</th>\n",
       "      <td>Switzerland</td>\n",
       "      <td>4.5</td>\n",
       "      <td>47744.0</td>\n",
       "      <td>8579.00</td>\n",
       "      <td>39761.8</td>\n",
       "      <td>55500</td>\n",
       "      <td>0.317</td>\n",
       "      <td>82.2</td>\n",
       "      <td>1.52</td>\n",
       "      <td>74600</td>\n",
       "    </tr>\n",
       "    <tr>\n",
       "      <th>123</th>\n",
       "      <td>Qatar</td>\n",
       "      <td>9.0</td>\n",
       "      <td>43796.9</td>\n",
       "      <td>1272.43</td>\n",
       "      <td>16731.4</td>\n",
       "      <td>125000</td>\n",
       "      <td>6.980</td>\n",
       "      <td>79.5</td>\n",
       "      <td>2.07</td>\n",
       "      <td>70300</td>\n",
       "    </tr>\n",
       "    <tr>\n",
       "      <th>110</th>\n",
       "      <td>Netherlands</td>\n",
       "      <td>4.5</td>\n",
       "      <td>36216.0</td>\n",
       "      <td>5985.70</td>\n",
       "      <td>31990.8</td>\n",
       "      <td>45500</td>\n",
       "      <td>0.848</td>\n",
       "      <td>80.7</td>\n",
       "      <td>1.79</td>\n",
       "      <td>50300</td>\n",
       "    </tr>\n",
       "    <tr>\n",
       "      <th>114</th>\n",
       "      <td>Norway</td>\n",
       "      <td>3.2</td>\n",
       "      <td>34856.6</td>\n",
       "      <td>8323.44</td>\n",
       "      <td>25023.0</td>\n",
       "      <td>62300</td>\n",
       "      <td>5.950</td>\n",
       "      <td>81.0</td>\n",
       "      <td>1.95</td>\n",
       "      <td>87800</td>\n",
       "    </tr>\n",
       "    <tr>\n",
       "      <th>15</th>\n",
       "      <td>Belgium</td>\n",
       "      <td>4.5</td>\n",
       "      <td>33921.6</td>\n",
       "      <td>4750.80</td>\n",
       "      <td>33166.8</td>\n",
       "      <td>41100</td>\n",
       "      <td>1.880</td>\n",
       "      <td>80.0</td>\n",
       "      <td>1.86</td>\n",
       "      <td>44400</td>\n",
       "    </tr>\n",
       "    <tr>\n",
       "      <th>98</th>\n",
       "      <td>Malta</td>\n",
       "      <td>6.8</td>\n",
       "      <td>32283.0</td>\n",
       "      <td>1825.15</td>\n",
       "      <td>32494.0</td>\n",
       "      <td>28300</td>\n",
       "      <td>3.830</td>\n",
       "      <td>80.3</td>\n",
       "      <td>1.36</td>\n",
       "      <td>21100</td>\n",
       "    </tr>\n",
       "  </tbody>\n",
       "</table>\n",
       "</div>"
      ],
      "text/plain": [
       "         country  child_mort   exports   health   imports  income  inflation  \\\n",
       "91    Luxembourg         2.8  183750.0  8158.50  149100.0   91700      3.620   \n",
       "133    Singapore         2.8   93200.0  1845.36   81084.0   72100     -0.046   \n",
       "73       Ireland         4.2   50161.0  4475.53   42125.5   45700     -3.220   \n",
       "145  Switzerland         4.5   47744.0  8579.00   39761.8   55500      0.317   \n",
       "123        Qatar         9.0   43796.9  1272.43   16731.4  125000      6.980   \n",
       "110  Netherlands         4.5   36216.0  5985.70   31990.8   45500      0.848   \n",
       "114       Norway         3.2   34856.6  8323.44   25023.0   62300      5.950   \n",
       "15       Belgium         4.5   33921.6  4750.80   33166.8   41100      1.880   \n",
       "98         Malta         6.8   32283.0  1825.15   32494.0   28300      3.830   \n",
       "\n",
       "     life_expec  total_fer    gdpp  \n",
       "91         81.3       1.63  105000  \n",
       "133        82.7       1.15   46600  \n",
       "73         80.4       2.05   48700  \n",
       "145        82.2       1.52   74600  \n",
       "123        79.5       2.07   70300  \n",
       "110        80.7       1.79   50300  \n",
       "114        81.0       1.95   87800  \n",
       "15         80.0       1.86   44400  \n",
       "98         80.3       1.36   21100  "
      ]
     },
     "execution_count": 11,
     "metadata": {},
     "output_type": "execute_result"
    }
   ],
   "source": [
    "# Values greater than 95th percentile:\n",
    "countries[countries['exports'] >  31385].sort_values('exports', ascending = False)"
   ]
  },
  {
   "cell_type": "markdown",
   "metadata": {},
   "source": [
    "From a glance we can see that these countries are higly developed and also a little small in size (geographically).<br>\n",
    "This is also evident from the income and the life expectancy rate.<br>\n",
    "We cannot remove all the countries since the quantity of data will get affected.<br>\n",
    "However, there are some extreme outliers here such as **Luxemberg** and **Singapore**. Removal of these countries from the dataset will stabilize the data."
   ]
  },
  {
   "cell_type": "code",
   "execution_count": 12,
   "metadata": {},
   "outputs": [
    {
     "data": {
      "text/plain": [
       "(165, 10)"
      ]
     },
     "execution_count": 12,
     "metadata": {},
     "output_type": "execute_result"
    }
   ],
   "source": [
    "# Removing Luxembourg and Singapore:\n",
    "countries = countries[~countries['country'].isin(['Luxembourg', 'Singapore'])]\n",
    "countries.shape"
   ]
  },
  {
   "cell_type": "code",
   "execution_count": 13,
   "metadata": {},
   "outputs": [
    {
     "name": "stdout",
     "output_type": "stream",
     "text": [
      "0.00      12.8212\n",
      "0.25      76.8930\n",
      "0.50     306.2500\n",
      "0.75     939.9600\n",
      "0.90    3614.6720\n",
      "0.95    4845.3200\n",
      "0.98    6436.6360\n",
      "0.99    8415.4416\n",
      "1.00    8663.6000\n",
      "Name: health, dtype: float64\n"
     ]
    },
    {
     "data": {
      "image/png": "[encoded data removed]",
      "text/plain": [
       "<Figure size 432x288 with 1 Axes>"
      ]
     },
     "metadata": {
      "needs_background": "light"
     },
     "output_type": "display_data"
    }
   ],
   "source": [
    "# Expenditure on Health:\n",
    "sns.boxplot(countries['health'])\n",
    "print(countries['health'].quantile([0, 0.25, 0.50, 0.75, 0.90, 0.95, 0.98, 0.99, 1]))"
   ]
  },
  {
   "cell_type": "markdown",
   "metadata": {},
   "source": [
    "There are some extreme outliers in this column too. Let us have a look at it."
   ]
  },
  {
   "cell_type": "code",
   "execution_count": 14,
   "metadata": {
    "scrolled": true
   },
   "outputs": [
    {
     "data": {
      "text/html": [
       "<div>\n",
       "<style scoped>\n",
       "    .dataframe tbody tr th:only-of-type {\n",
       "        vertical-align: middle;\n",
       "    }\n",
       "\n",
       "    .dataframe tbody tr th {\n",
       "        vertical-align: top;\n",
       "    }\n",
       "\n",
       "    .dataframe thead th {\n",
       "        text-align: right;\n",
       "    }\n",
       "</style>\n",
       "<table border=\"1\" class=\"dataframe\">\n",
       "  <thead>\n",
       "    <tr style=\"text-align: right;\">\n",
       "      <th></th>\n",
       "      <th>country</th>\n",
       "      <th>child_mort</th>\n",
       "      <th>exports</th>\n",
       "      <th>health</th>\n",
       "      <th>imports</th>\n",
       "      <th>income</th>\n",
       "      <th>inflation</th>\n",
       "      <th>life_expec</th>\n",
       "      <th>total_fer</th>\n",
       "      <th>gdpp</th>\n",
       "    </tr>\n",
       "  </thead>\n",
       "  <tbody>\n",
       "    <tr>\n",
       "      <th>114</th>\n",
       "      <td>Norway</td>\n",
       "      <td>3.2</td>\n",
       "      <td>34856.6</td>\n",
       "      <td>8323.44</td>\n",
       "      <td>25023.0</td>\n",
       "      <td>62300</td>\n",
       "      <td>5.950</td>\n",
       "      <td>81.0</td>\n",
       "      <td>1.95</td>\n",
       "      <td>87800</td>\n",
       "    </tr>\n",
       "    <tr>\n",
       "      <th>145</th>\n",
       "      <td>Switzerland</td>\n",
       "      <td>4.5</td>\n",
       "      <td>47744.0</td>\n",
       "      <td>8579.00</td>\n",
       "      <td>39761.8</td>\n",
       "      <td>55500</td>\n",
       "      <td>0.317</td>\n",
       "      <td>82.2</td>\n",
       "      <td>1.52</td>\n",
       "      <td>74600</td>\n",
       "    </tr>\n",
       "    <tr>\n",
       "      <th>159</th>\n",
       "      <td>United States</td>\n",
       "      <td>7.3</td>\n",
       "      <td>6001.6</td>\n",
       "      <td>8663.60</td>\n",
       "      <td>7647.2</td>\n",
       "      <td>49400</td>\n",
       "      <td>1.220</td>\n",
       "      <td>78.7</td>\n",
       "      <td>1.93</td>\n",
       "      <td>48400</td>\n",
       "    </tr>\n",
       "  </tbody>\n",
       "</table>\n",
       "</div>"
      ],
      "text/plain": [
       "           country  child_mort  exports   health  imports  income  inflation  \\\n",
       "114         Norway         3.2  34856.6  8323.44  25023.0   62300      5.950   \n",
       "145    Switzerland         4.5  47744.0  8579.00  39761.8   55500      0.317   \n",
       "159  United States         7.3   6001.6  8663.60   7647.2   49400      1.220   \n",
       "\n",
       "     life_expec  total_fer   gdpp  \n",
       "114        81.0       1.95  87800  \n",
       "145        82.2       1.52  74600  \n",
       "159        78.7       1.93  48400  "
      ]
     },
     "execution_count": 14,
     "metadata": {},
     "output_type": "execute_result"
    }
   ],
   "source": [
    "# Countries with the extremely high values for health expenditure \n",
    "countries[countries['health'] >= 8000]"
   ]
  },
  {
   "cell_type": "markdown",
   "metadata": {},
   "source": [
    "We can remove these countries to make our dataset more stable, since these countries have a very low child mortality rate and the income levels and the life expectancy are also reasonably high."
   ]
  },
  {
   "cell_type": "code",
   "execution_count": 15,
   "metadata": {},
   "outputs": [
    {
     "data": {
      "text/plain": [
       "(162, 10)"
      ]
     },
     "execution_count": 15,
     "metadata": {},
     "output_type": "execute_result"
    }
   ],
   "source": [
    "countries = countries[~countries['country'].isin(['Norway', 'Switzerland', 'United States'])]\n",
    "countries.shape"
   ]
  },
  {
   "cell_type": "code",
   "execution_count": 16,
   "metadata": {},
   "outputs": [
    {
     "name": "stdout",
     "output_type": "stream",
     "text": [
      "0.00        0.651092\n",
      "0.25      571.837500\n",
      "0.50     1981.770000\n",
      "0.75     6356.390000\n",
      "0.90    12432.380000\n",
      "0.95    18121.065000\n",
      "0.98    30516.184000\n",
      "0.99    32756.392000\n",
      "1.00    42125.500000\n",
      "Name: imports, dtype: float64\n"
     ]
    },
    {
     "data": {
      "image/png": "[encoded data removed]",
      "text/plain": [
       "<Figure size 432x288 with 1 Axes>"
      ]
     },
     "metadata": {
      "needs_background": "light"
     },
     "output_type": "display_data"
    }
   ],
   "source": [
    "# Imports:\n",
    "sns.boxplot(countries['imports'])\n",
    "print(countries['imports'].quantile([0, 0.25, 0.50, 0.75, 0.90, 0.95, 0.98, 0.99, 1]))"
   ]
  },
  {
   "cell_type": "code",
   "execution_count": 17,
   "metadata": {},
   "outputs": [
    {
     "data": {
      "text/html": [
       "<div>\n",
       "<style scoped>\n",
       "    .dataframe tbody tr th:only-of-type {\n",
       "        vertical-align: middle;\n",
       "    }\n",
       "\n",
       "    .dataframe tbody tr th {\n",
       "        vertical-align: top;\n",
       "    }\n",
       "\n",
       "    .dataframe thead th {\n",
       "        text-align: right;\n",
       "    }\n",
       "</style>\n",
       "<table border=\"1\" class=\"dataframe\">\n",
       "  <thead>\n",
       "    <tr style=\"text-align: right;\">\n",
       "      <th></th>\n",
       "      <th>country</th>\n",
       "      <th>child_mort</th>\n",
       "      <th>exports</th>\n",
       "      <th>health</th>\n",
       "      <th>imports</th>\n",
       "      <th>income</th>\n",
       "      <th>inflation</th>\n",
       "      <th>life_expec</th>\n",
       "      <th>total_fer</th>\n",
       "      <th>gdpp</th>\n",
       "    </tr>\n",
       "  </thead>\n",
       "  <tbody>\n",
       "    <tr>\n",
       "      <th>8</th>\n",
       "      <td>Austria</td>\n",
       "      <td>4.3</td>\n",
       "      <td>24059.7</td>\n",
       "      <td>5159.00</td>\n",
       "      <td>22418.2</td>\n",
       "      <td>43200</td>\n",
       "      <td>0.873</td>\n",
       "      <td>80.5</td>\n",
       "      <td>1.44</td>\n",
       "      <td>46900</td>\n",
       "    </tr>\n",
       "    <tr>\n",
       "      <th>15</th>\n",
       "      <td>Belgium</td>\n",
       "      <td>4.5</td>\n",
       "      <td>33921.6</td>\n",
       "      <td>4750.80</td>\n",
       "      <td>33166.8</td>\n",
       "      <td>41100</td>\n",
       "      <td>1.880</td>\n",
       "      <td>80.0</td>\n",
       "      <td>1.86</td>\n",
       "      <td>44400</td>\n",
       "    </tr>\n",
       "    <tr>\n",
       "      <th>44</th>\n",
       "      <td>Denmark</td>\n",
       "      <td>4.1</td>\n",
       "      <td>29290.0</td>\n",
       "      <td>6612.00</td>\n",
       "      <td>25288.0</td>\n",
       "      <td>44000</td>\n",
       "      <td>3.220</td>\n",
       "      <td>79.5</td>\n",
       "      <td>1.87</td>\n",
       "      <td>58000</td>\n",
       "    </tr>\n",
       "    <tr>\n",
       "      <th>73</th>\n",
       "      <td>Ireland</td>\n",
       "      <td>4.2</td>\n",
       "      <td>50161.0</td>\n",
       "      <td>4475.53</td>\n",
       "      <td>42125.5</td>\n",
       "      <td>45700</td>\n",
       "      <td>-3.220</td>\n",
       "      <td>80.4</td>\n",
       "      <td>2.05</td>\n",
       "      <td>48700</td>\n",
       "    </tr>\n",
       "    <tr>\n",
       "      <th>98</th>\n",
       "      <td>Malta</td>\n",
       "      <td>6.8</td>\n",
       "      <td>32283.0</td>\n",
       "      <td>1825.15</td>\n",
       "      <td>32494.0</td>\n",
       "      <td>28300</td>\n",
       "      <td>3.830</td>\n",
       "      <td>80.3</td>\n",
       "      <td>1.36</td>\n",
       "      <td>21100</td>\n",
       "    </tr>\n",
       "    <tr>\n",
       "      <th>110</th>\n",
       "      <td>Netherlands</td>\n",
       "      <td>4.5</td>\n",
       "      <td>36216.0</td>\n",
       "      <td>5985.70</td>\n",
       "      <td>31990.8</td>\n",
       "      <td>45500</td>\n",
       "      <td>0.848</td>\n",
       "      <td>80.7</td>\n",
       "      <td>1.79</td>\n",
       "      <td>50300</td>\n",
       "    </tr>\n",
       "    <tr>\n",
       "      <th>144</th>\n",
       "      <td>Sweden</td>\n",
       "      <td>3.0</td>\n",
       "      <td>24070.2</td>\n",
       "      <td>5017.23</td>\n",
       "      <td>21204.7</td>\n",
       "      <td>42900</td>\n",
       "      <td>0.991</td>\n",
       "      <td>81.5</td>\n",
       "      <td>1.98</td>\n",
       "      <td>52100</td>\n",
       "    </tr>\n",
       "    <tr>\n",
       "      <th>157</th>\n",
       "      <td>United Arab Emirates</td>\n",
       "      <td>8.6</td>\n",
       "      <td>27195.0</td>\n",
       "      <td>1281.00</td>\n",
       "      <td>22260.0</td>\n",
       "      <td>57600</td>\n",
       "      <td>12.500</td>\n",
       "      <td>76.5</td>\n",
       "      <td>1.87</td>\n",
       "      <td>35000</td>\n",
       "    </tr>\n",
       "  </tbody>\n",
       "</table>\n",
       "</div>"
      ],
      "text/plain": [
       "                  country  child_mort  exports   health  imports  income  \\\n",
       "8                 Austria         4.3  24059.7  5159.00  22418.2   43200   \n",
       "15                Belgium         4.5  33921.6  4750.80  33166.8   41100   \n",
       "44                Denmark         4.1  29290.0  6612.00  25288.0   44000   \n",
       "73                Ireland         4.2  50161.0  4475.53  42125.5   45700   \n",
       "98                  Malta         6.8  32283.0  1825.15  32494.0   28300   \n",
       "110           Netherlands         4.5  36216.0  5985.70  31990.8   45500   \n",
       "144                Sweden         3.0  24070.2  5017.23  21204.7   42900   \n",
       "157  United Arab Emirates         8.6  27195.0  1281.00  22260.0   57600   \n",
       "\n",
       "     inflation  life_expec  total_fer   gdpp  \n",
       "8        0.873        80.5       1.44  46900  \n",
       "15       1.880        80.0       1.86  44400  \n",
       "44       3.220        79.5       1.87  58000  \n",
       "73      -3.220        80.4       2.05  48700  \n",
       "98       3.830        80.3       1.36  21100  \n",
       "110      0.848        80.7       1.79  50300  \n",
       "144      0.991        81.5       1.98  52100  \n",
       "157     12.500        76.5       1.87  35000  "
      ]
     },
     "execution_count": 17,
     "metadata": {},
     "output_type": "execute_result"
    }
   ],
   "source": [
    "# Taking a look at the outlier countries:\n",
    "countries[countries['imports'] > 20000]"
   ]
  },
  {
   "cell_type": "markdown",
   "metadata": {},
   "source": [
    "The list of above countries makes sense since these are really small countries and therefore they are not self reliant in terms of many things and have to import it.<br>\n",
    "It can also be seen that the **income** levels for these countries are almost the same except for Malta.<br> Child mortatility rate is also below the world average of 19 for all these countries.<br>\n",
    "We will not remove these countries as of now."
   ]
  },
  {
   "cell_type": "code",
   "execution_count": 18,
   "metadata": {},
   "outputs": [
    {
     "name": "stdout",
     "output_type": "stream",
     "text": [
      "0.00       609.0\n",
      "0.25      3325.0\n",
      "0.50      9925.0\n",
      "0.75     21100.0\n",
      "0.90     39700.0\n",
      "0.95     43960.0\n",
      "0.98     54982.0\n",
      "0.99     77306.0\n",
      "1.00    125000.0\n",
      "Name: income, dtype: float64\n"
     ]
    },
    {
     "data": {
      "image/png": "[encoded data removed]",
      "text/plain": [
       "<Figure size 432x288 with 1 Axes>"
      ]
     },
     "metadata": {
      "needs_background": "light"
     },
     "output_type": "display_data"
    }
   ],
   "source": [
    "# Income per person:\n",
    "sns.boxplot(countries['income'])\n",
    "print(countries['income'].quantile([0, 0.25, 0.50, 0.75, 0.90, 0.95, 0.98, 0.99, 1]))"
   ]
  },
  {
   "cell_type": "code",
   "execution_count": 19,
   "metadata": {},
   "outputs": [
    {
     "data": {
      "text/html": [
       "<div>\n",
       "<style scoped>\n",
       "    .dataframe tbody tr th:only-of-type {\n",
       "        vertical-align: middle;\n",
       "    }\n",
       "\n",
       "    .dataframe tbody tr th {\n",
       "        vertical-align: top;\n",
       "    }\n",
       "\n",
       "    .dataframe thead th {\n",
       "        text-align: right;\n",
       "    }\n",
       "</style>\n",
       "<table border=\"1\" class=\"dataframe\">\n",
       "  <thead>\n",
       "    <tr style=\"text-align: right;\">\n",
       "      <th></th>\n",
       "      <th>country</th>\n",
       "      <th>child_mort</th>\n",
       "      <th>exports</th>\n",
       "      <th>health</th>\n",
       "      <th>imports</th>\n",
       "      <th>income</th>\n",
       "      <th>inflation</th>\n",
       "      <th>life_expec</th>\n",
       "      <th>total_fer</th>\n",
       "      <th>gdpp</th>\n",
       "    </tr>\n",
       "  </thead>\n",
       "  <tbody>\n",
       "    <tr>\n",
       "      <th>123</th>\n",
       "      <td>Qatar</td>\n",
       "      <td>9.0</td>\n",
       "      <td>43796.9</td>\n",
       "      <td>1272.43</td>\n",
       "      <td>16731.4</td>\n",
       "      <td>125000</td>\n",
       "      <td>6.98</td>\n",
       "      <td>79.5</td>\n",
       "      <td>2.07</td>\n",
       "      <td>70300</td>\n",
       "    </tr>\n",
       "    <tr>\n",
       "      <th>23</th>\n",
       "      <td>Brunei</td>\n",
       "      <td>10.5</td>\n",
       "      <td>23792.2</td>\n",
       "      <td>1002.52</td>\n",
       "      <td>9884.0</td>\n",
       "      <td>80600</td>\n",
       "      <td>16.70</td>\n",
       "      <td>77.1</td>\n",
       "      <td>1.84</td>\n",
       "      <td>35300</td>\n",
       "    </tr>\n",
       "    <tr>\n",
       "      <th>82</th>\n",
       "      <td>Kuwait</td>\n",
       "      <td>10.8</td>\n",
       "      <td>25679.5</td>\n",
       "      <td>1012.55</td>\n",
       "      <td>11704.0</td>\n",
       "      <td>75200</td>\n",
       "      <td>11.20</td>\n",
       "      <td>78.2</td>\n",
       "      <td>2.21</td>\n",
       "      <td>38500</td>\n",
       "    </tr>\n",
       "    <tr>\n",
       "      <th>157</th>\n",
       "      <td>United Arab Emirates</td>\n",
       "      <td>8.6</td>\n",
       "      <td>27195.0</td>\n",
       "      <td>1281.00</td>\n",
       "      <td>22260.0</td>\n",
       "      <td>57600</td>\n",
       "      <td>12.50</td>\n",
       "      <td>76.5</td>\n",
       "      <td>1.87</td>\n",
       "      <td>35000</td>\n",
       "    </tr>\n",
       "  </tbody>\n",
       "</table>\n",
       "</div>"
      ],
      "text/plain": [
       "                  country  child_mort  exports   health  imports  income  \\\n",
       "123                 Qatar         9.0  43796.9  1272.43  16731.4  125000   \n",
       "23                 Brunei        10.5  23792.2  1002.52   9884.0   80600   \n",
       "82                 Kuwait        10.8  25679.5  1012.55  11704.0   75200   \n",
       "157  United Arab Emirates         8.6  27195.0  1281.00  22260.0   57600   \n",
       "\n",
       "     inflation  life_expec  total_fer   gdpp  \n",
       "123       6.98        79.5       2.07  70300  \n",
       "23       16.70        77.1       1.84  35300  \n",
       "82       11.20        78.2       2.21  38500  \n",
       "157      12.50        76.5       1.87  35000  "
      ]
     },
     "execution_count": 19,
     "metadata": {},
     "output_type": "execute_result"
    }
   ],
   "source": [
    "countries[countries['income'] >  50000].sort_values('income', ascending = False)"
   ]
  },
  {
   "cell_type": "markdown",
   "metadata": {},
   "source": [
    "It can be seen that all of these countries with exceptionally high net income are oil producing gulf countries.<br>\n",
    "The child mortality rate is less and the life expectancy is high.<br>\n",
    "Removing these countries is feasible for us."
   ]
  },
  {
   "cell_type": "code",
   "execution_count": 20,
   "metadata": {},
   "outputs": [
    {
     "data": {
      "text/plain": [
       "(158, 10)"
      ]
     },
     "execution_count": 20,
     "metadata": {},
     "output_type": "execute_result"
    }
   ],
   "source": [
    "# Removing the countries with a really high net income per person:\n",
    "countries = countries[~countries['country'].isin(['Brunei','Kuwait','Qatar','United Arab Emirates'])]\n",
    "countries.shape"
   ]
  },
  {
   "cell_type": "code",
   "execution_count": 21,
   "metadata": {},
   "outputs": [
    {
     "name": "stdout",
     "output_type": "stream",
     "text": [
      "0.00     -4.2100\n",
      "0.25      1.8575\n",
      "0.50      5.2650\n",
      "0.75     10.4750\n",
      "0.90     16.7800\n",
      "0.95     21.1250\n",
      "0.98     26.2760\n",
      "0.99     42.0810\n",
      "1.00    104.0000\n",
      "Name: inflation, dtype: float64\n"
     ]
    },
    {
     "data": {
      "image/png": "[encoded data removed]",
      "text/plain": [
       "<Figure size 432x288 with 1 Axes>"
      ]
     },
     "metadata": {
      "needs_background": "light"
     },
     "output_type": "display_data"
    }
   ],
   "source": [
    "# Inflation:\n",
    "sns.boxplot(countries['inflation'])\n",
    "print(countries['inflation'].quantile([0, 0.25, 0.50, 0.75, 0.90, 0.95, 0.98, 0.99, 1]))"
   ]
  },
  {
   "cell_type": "markdown",
   "metadata": {},
   "source": [
    "By intuition we can say that a negative inflation rate and an inflation rate above 20% is suspicious.<br>\n",
    "However a negative inflation rate is actually a good thing since the purchasing power of the money increases every year. Let us only focus on countries with a high inflation rate.<br>"
   ]
  },
  {
   "cell_type": "code",
   "execution_count": 22,
   "metadata": {},
   "outputs": [
    {
     "data": {
      "text/html": [
       "<div>\n",
       "<style scoped>\n",
       "    .dataframe tbody tr th:only-of-type {\n",
       "        vertical-align: middle;\n",
       "    }\n",
       "\n",
       "    .dataframe tbody tr th {\n",
       "        vertical-align: top;\n",
       "    }\n",
       "\n",
       "    .dataframe thead th {\n",
       "        text-align: right;\n",
       "    }\n",
       "</style>\n",
       "<table border=\"1\" class=\"dataframe\">\n",
       "  <thead>\n",
       "    <tr style=\"text-align: right;\">\n",
       "      <th></th>\n",
       "      <th>country</th>\n",
       "      <th>child_mort</th>\n",
       "      <th>exports</th>\n",
       "      <th>health</th>\n",
       "      <th>imports</th>\n",
       "      <th>income</th>\n",
       "      <th>inflation</th>\n",
       "      <th>life_expec</th>\n",
       "      <th>total_fer</th>\n",
       "      <th>gdpp</th>\n",
       "    </tr>\n",
       "  </thead>\n",
       "  <tbody>\n",
       "    <tr>\n",
       "      <th>103</th>\n",
       "      <td>Mongolia</td>\n",
       "      <td>26.1</td>\n",
       "      <td>1237.55</td>\n",
       "      <td>144.160</td>\n",
       "      <td>1502.55</td>\n",
       "      <td>7710</td>\n",
       "      <td>39.2</td>\n",
       "      <td>66.2</td>\n",
       "      <td>2.64</td>\n",
       "      <td>2650</td>\n",
       "    </tr>\n",
       "    <tr>\n",
       "      <th>113</th>\n",
       "      <td>Nigeria</td>\n",
       "      <td>130.0</td>\n",
       "      <td>589.49</td>\n",
       "      <td>118.131</td>\n",
       "      <td>405.42</td>\n",
       "      <td>5150</td>\n",
       "      <td>104.0</td>\n",
       "      <td>60.5</td>\n",
       "      <td>5.84</td>\n",
       "      <td>2330</td>\n",
       "    </tr>\n",
       "    <tr>\n",
       "      <th>163</th>\n",
       "      <td>Venezuela</td>\n",
       "      <td>17.1</td>\n",
       "      <td>3847.50</td>\n",
       "      <td>662.850</td>\n",
       "      <td>2376.00</td>\n",
       "      <td>16500</td>\n",
       "      <td>45.9</td>\n",
       "      <td>75.4</td>\n",
       "      <td>2.47</td>\n",
       "      <td>13500</td>\n",
       "    </tr>\n",
       "  </tbody>\n",
       "</table>\n",
       "</div>"
      ],
      "text/plain": [
       "       country  child_mort  exports   health  imports  income  inflation  \\\n",
       "103   Mongolia        26.1  1237.55  144.160  1502.55    7710       39.2   \n",
       "113    Nigeria       130.0   589.49  118.131   405.42    5150      104.0   \n",
       "163  Venezuela        17.1  3847.50  662.850  2376.00   16500       45.9   \n",
       "\n",
       "     life_expec  total_fer   gdpp  \n",
       "103        66.2       2.64   2650  \n",
       "113        60.5       5.84   2330  \n",
       "163        75.4       2.47  13500  "
      ]
     },
     "execution_count": 22,
     "metadata": {},
     "output_type": "execute_result"
    }
   ],
   "source": [
    "countries[countries['inflation'] > 30]"
   ]
  },
  {
   "cell_type": "markdown",
   "metadata": {},
   "source": [
    "We can see that the countries having a hight inflation rate are mostly poor countries except for **Venezuela** which has net income greater than 50 percentile of the world.<br>\n",
    "Also the child mortality rate in Venenzuela is less than the world average of 19.<br>\n",
    "Venezuela seems to be an outlier for this case.<br>\n",
    "We however cannot remove **Nigeria** and **Mongolia** on account of their really high inflation rate since the child mortality rate is also through the charts for them and therefore it must require financial aid."
   ]
  },
  {
   "cell_type": "code",
   "execution_count": 23,
   "metadata": {},
   "outputs": [
    {
     "name": "stdout",
     "output_type": "stream",
     "text": [
      "0.00    32.100\n",
      "0.25    64.150\n",
      "0.50    71.850\n",
      "0.75    76.400\n",
      "0.90    80.300\n",
      "0.95    81.315\n",
      "0.98    81.872\n",
      "0.99    82.000\n",
      "1.00    82.800\n",
      "Name: life_expec, dtype: float64\n"
     ]
    },
    {
     "data": {
      "image/png": "[encoded data removed]",
      "text/plain": [
       "<Figure size 432x288 with 1 Axes>"
      ]
     },
     "metadata": {
      "needs_background": "light"
     },
     "output_type": "display_data"
    }
   ],
   "source": [
    "# Life Expectancy:\n",
    "sns.boxplot(countries['life_expec'])\n",
    "print(countries['life_expec'].quantile([0, 0.25, 0.50, 0.75, 0.90, 0.95, 0.98, 0.99, 1]))"
   ]
  },
  {
   "cell_type": "code",
   "execution_count": 24,
   "metadata": {},
   "outputs": [
    {
     "data": {
      "text/html": [
       "<div>\n",
       "<style scoped>\n",
       "    .dataframe tbody tr th:only-of-type {\n",
       "        vertical-align: middle;\n",
       "    }\n",
       "\n",
       "    .dataframe tbody tr th {\n",
       "        vertical-align: top;\n",
       "    }\n",
       "\n",
       "    .dataframe thead th {\n",
       "        text-align: right;\n",
       "    }\n",
       "</style>\n",
       "<table border=\"1\" class=\"dataframe\">\n",
       "  <thead>\n",
       "    <tr style=\"text-align: right;\">\n",
       "      <th></th>\n",
       "      <th>country</th>\n",
       "      <th>child_mort</th>\n",
       "      <th>exports</th>\n",
       "      <th>health</th>\n",
       "      <th>imports</th>\n",
       "      <th>income</th>\n",
       "      <th>inflation</th>\n",
       "      <th>life_expec</th>\n",
       "      <th>total_fer</th>\n",
       "      <th>gdpp</th>\n",
       "    </tr>\n",
       "  </thead>\n",
       "  <tbody>\n",
       "    <tr>\n",
       "      <th>66</th>\n",
       "      <td>Haiti</td>\n",
       "      <td>208.0</td>\n",
       "      <td>101.286</td>\n",
       "      <td>45.7442</td>\n",
       "      <td>428.314</td>\n",
       "      <td>1500</td>\n",
       "      <td>5.45</td>\n",
       "      <td>32.1</td>\n",
       "      <td>3.33</td>\n",
       "      <td>662</td>\n",
       "    </tr>\n",
       "  </tbody>\n",
       "</table>\n",
       "</div>"
      ],
      "text/plain": [
       "   country  child_mort  exports   health  imports  income  inflation  \\\n",
       "66   Haiti       208.0  101.286  45.7442  428.314    1500       5.45   \n",
       "\n",
       "    life_expec  total_fer  gdpp  \n",
       "66        32.1       3.33   662  "
      ]
     },
     "execution_count": 24,
     "metadata": {},
     "output_type": "execute_result"
    }
   ],
   "source": [
    "countries[countries['life_expec'] < 40]"
   ]
  },
  {
   "cell_type": "markdown",
   "metadata": {},
   "source": [
    "We cannot remove these countries since these are precisely the countries we'd want to give financial assistance."
   ]
  },
  {
   "cell_type": "code",
   "execution_count": 25,
   "metadata": {},
   "outputs": [
    {
     "name": "stdout",
     "output_type": "stream",
     "text": [
      "0.00    1.2300\n",
      "0.25    1.8150\n",
      "0.50    2.5300\n",
      "0.75    4.2000\n",
      "0.90    5.3460\n",
      "0.95    5.9120\n",
      "0.98    6.5008\n",
      "0.99    6.5672\n",
      "1.00    7.4900\n",
      "Name: total_fer, dtype: float64\n"
     ]
    },
    {
     "data": {
      "image/png": "[encoded data removed]",
      "text/plain": [
       "<Figure size 432x288 with 1 Axes>"
      ]
     },
     "metadata": {
      "needs_background": "light"
     },
     "output_type": "display_data"
    }
   ],
   "source": [
    "# Total Fertility:\n",
    "sns.boxplot(countries['total_fer'])\n",
    "print(countries['total_fer'].quantile([0, 0.25, 0.50, 0.75, 0.90, 0.95, 0.98, 0.99, 1]))"
   ]
  },
  {
   "cell_type": "code",
   "execution_count": 26,
   "metadata": {},
   "outputs": [
    {
     "data": {
      "text/html": [
       "<div>\n",
       "<style scoped>\n",
       "    .dataframe tbody tr th:only-of-type {\n",
       "        vertical-align: middle;\n",
       "    }\n",
       "\n",
       "    .dataframe tbody tr th {\n",
       "        vertical-align: top;\n",
       "    }\n",
       "\n",
       "    .dataframe thead th {\n",
       "        text-align: right;\n",
       "    }\n",
       "</style>\n",
       "<table border=\"1\" class=\"dataframe\">\n",
       "  <thead>\n",
       "    <tr style=\"text-align: right;\">\n",
       "      <th></th>\n",
       "      <th>country</th>\n",
       "      <th>child_mort</th>\n",
       "      <th>exports</th>\n",
       "      <th>health</th>\n",
       "      <th>imports</th>\n",
       "      <th>income</th>\n",
       "      <th>inflation</th>\n",
       "      <th>life_expec</th>\n",
       "      <th>total_fer</th>\n",
       "      <th>gdpp</th>\n",
       "    </tr>\n",
       "  </thead>\n",
       "  <tbody>\n",
       "    <tr>\n",
       "      <th>112</th>\n",
       "      <td>Niger</td>\n",
       "      <td>123.0</td>\n",
       "      <td>77.2560</td>\n",
       "      <td>17.9568</td>\n",
       "      <td>170.868</td>\n",
       "      <td>814</td>\n",
       "      <td>2.55</td>\n",
       "      <td>58.8</td>\n",
       "      <td>7.49</td>\n",
       "      <td>348</td>\n",
       "    </tr>\n",
       "    <tr>\n",
       "      <th>32</th>\n",
       "      <td>Chad</td>\n",
       "      <td>150.0</td>\n",
       "      <td>330.0960</td>\n",
       "      <td>40.6341</td>\n",
       "      <td>390.195</td>\n",
       "      <td>1930</td>\n",
       "      <td>6.39</td>\n",
       "      <td>56.5</td>\n",
       "      <td>6.59</td>\n",
       "      <td>897</td>\n",
       "    </tr>\n",
       "    <tr>\n",
       "      <th>97</th>\n",
       "      <td>Mali</td>\n",
       "      <td>137.0</td>\n",
       "      <td>161.4240</td>\n",
       "      <td>35.2584</td>\n",
       "      <td>248.508</td>\n",
       "      <td>1870</td>\n",
       "      <td>4.37</td>\n",
       "      <td>59.5</td>\n",
       "      <td>6.55</td>\n",
       "      <td>708</td>\n",
       "    </tr>\n",
       "    <tr>\n",
       "      <th>37</th>\n",
       "      <td>Congo, Dem. Rep.</td>\n",
       "      <td>116.0</td>\n",
       "      <td>137.2740</td>\n",
       "      <td>26.4194</td>\n",
       "      <td>165.664</td>\n",
       "      <td>609</td>\n",
       "      <td>20.80</td>\n",
       "      <td>57.5</td>\n",
       "      <td>6.54</td>\n",
       "      <td>334</td>\n",
       "    </tr>\n",
       "    <tr>\n",
       "      <th>26</th>\n",
       "      <td>Burundi</td>\n",
       "      <td>93.6</td>\n",
       "      <td>20.6052</td>\n",
       "      <td>26.7960</td>\n",
       "      <td>90.552</td>\n",
       "      <td>764</td>\n",
       "      <td>12.30</td>\n",
       "      <td>57.7</td>\n",
       "      <td>6.26</td>\n",
       "      <td>231</td>\n",
       "    </tr>\n",
       "    <tr>\n",
       "      <th>149</th>\n",
       "      <td>Timor-Leste</td>\n",
       "      <td>62.6</td>\n",
       "      <td>79.2000</td>\n",
       "      <td>328.3200</td>\n",
       "      <td>1000.800</td>\n",
       "      <td>1850</td>\n",
       "      <td>26.50</td>\n",
       "      <td>71.1</td>\n",
       "      <td>6.23</td>\n",
       "      <td>3600</td>\n",
       "    </tr>\n",
       "    <tr>\n",
       "      <th>3</th>\n",
       "      <td>Angola</td>\n",
       "      <td>119.0</td>\n",
       "      <td>2199.1900</td>\n",
       "      <td>100.6050</td>\n",
       "      <td>1514.370</td>\n",
       "      <td>5900</td>\n",
       "      <td>22.40</td>\n",
       "      <td>60.1</td>\n",
       "      <td>6.16</td>\n",
       "      <td>3530</td>\n",
       "    </tr>\n",
       "    <tr>\n",
       "      <th>155</th>\n",
       "      <td>Uganda</td>\n",
       "      <td>81.0</td>\n",
       "      <td>101.7450</td>\n",
       "      <td>53.6095</td>\n",
       "      <td>170.170</td>\n",
       "      <td>1540</td>\n",
       "      <td>10.60</td>\n",
       "      <td>56.8</td>\n",
       "      <td>6.15</td>\n",
       "      <td>595</td>\n",
       "    </tr>\n",
       "    <tr>\n",
       "      <th>25</th>\n",
       "      <td>Burkina Faso</td>\n",
       "      <td>116.0</td>\n",
       "      <td>110.4000</td>\n",
       "      <td>38.7550</td>\n",
       "      <td>170.200</td>\n",
       "      <td>1430</td>\n",
       "      <td>6.81</td>\n",
       "      <td>57.9</td>\n",
       "      <td>5.87</td>\n",
       "      <td>575</td>\n",
       "    </tr>\n",
       "    <tr>\n",
       "      <th>113</th>\n",
       "      <td>Nigeria</td>\n",
       "      <td>130.0</td>\n",
       "      <td>589.4900</td>\n",
       "      <td>118.1310</td>\n",
       "      <td>405.420</td>\n",
       "      <td>5150</td>\n",
       "      <td>104.00</td>\n",
       "      <td>60.5</td>\n",
       "      <td>5.84</td>\n",
       "      <td>2330</td>\n",
       "    </tr>\n",
       "    <tr>\n",
       "      <th>0</th>\n",
       "      <td>Afghanistan</td>\n",
       "      <td>90.2</td>\n",
       "      <td>55.3000</td>\n",
       "      <td>41.9174</td>\n",
       "      <td>248.297</td>\n",
       "      <td>1610</td>\n",
       "      <td>9.44</td>\n",
       "      <td>56.2</td>\n",
       "      <td>5.82</td>\n",
       "      <td>553</td>\n",
       "    </tr>\n",
       "    <tr>\n",
       "      <th>56</th>\n",
       "      <td>Gambia</td>\n",
       "      <td>80.3</td>\n",
       "      <td>133.7560</td>\n",
       "      <td>31.9778</td>\n",
       "      <td>239.974</td>\n",
       "      <td>1660</td>\n",
       "      <td>4.30</td>\n",
       "      <td>65.5</td>\n",
       "      <td>5.71</td>\n",
       "      <td>562</td>\n",
       "    </tr>\n",
       "    <tr>\n",
       "      <th>106</th>\n",
       "      <td>Mozambique</td>\n",
       "      <td>101.0</td>\n",
       "      <td>131.9850</td>\n",
       "      <td>21.8299</td>\n",
       "      <td>193.578</td>\n",
       "      <td>918</td>\n",
       "      <td>7.64</td>\n",
       "      <td>54.5</td>\n",
       "      <td>5.56</td>\n",
       "      <td>419</td>\n",
       "    </tr>\n",
       "  </tbody>\n",
       "</table>\n",
       "</div>"
      ],
      "text/plain": [
       "              country  child_mort    exports    health   imports  income  \\\n",
       "112             Niger       123.0    77.2560   17.9568   170.868     814   \n",
       "32               Chad       150.0   330.0960   40.6341   390.195    1930   \n",
       "97               Mali       137.0   161.4240   35.2584   248.508    1870   \n",
       "37   Congo, Dem. Rep.       116.0   137.2740   26.4194   165.664     609   \n",
       "26            Burundi        93.6    20.6052   26.7960    90.552     764   \n",
       "149       Timor-Leste        62.6    79.2000  328.3200  1000.800    1850   \n",
       "3              Angola       119.0  2199.1900  100.6050  1514.370    5900   \n",
       "155            Uganda        81.0   101.7450   53.6095   170.170    1540   \n",
       "25       Burkina Faso       116.0   110.4000   38.7550   170.200    1430   \n",
       "113           Nigeria       130.0   589.4900  118.1310   405.420    5150   \n",
       "0         Afghanistan        90.2    55.3000   41.9174   248.297    1610   \n",
       "56             Gambia        80.3   133.7560   31.9778   239.974    1660   \n",
       "106        Mozambique       101.0   131.9850   21.8299   193.578     918   \n",
       "\n",
       "     inflation  life_expec  total_fer  gdpp  \n",
       "112       2.55        58.8       7.49   348  \n",
       "32        6.39        56.5       6.59   897  \n",
       "97        4.37        59.5       6.55   708  \n",
       "37       20.80        57.5       6.54   334  \n",
       "26       12.30        57.7       6.26   231  \n",
       "149      26.50        71.1       6.23  3600  \n",
       "3        22.40        60.1       6.16  3530  \n",
       "155      10.60        56.8       6.15   595  \n",
       "25        6.81        57.9       5.87   575  \n",
       "113     104.00        60.5       5.84  2330  \n",
       "0         9.44        56.2       5.82   553  \n",
       "56        4.30        65.5       5.71   562  \n",
       "106       7.64        54.5       5.56   419  "
      ]
     },
     "execution_count": 26,
     "metadata": {},
     "output_type": "execute_result"
    }
   ],
   "source": [
    "countries[countries['total_fer'] > 5.5].sort_values('total_fer', ascending = False)"
   ]
  },
  {
   "cell_type": "markdown",
   "metadata": {},
   "source": [
    "From a glance it can be seen that the countries featuring above are all poor countries with low income per capita and high child mortality rate.<br>\n",
    "We need these countries to be in our dataframe since we'd want to give them financial aid."
   ]
  },
  {
   "cell_type": "code",
   "execution_count": 27,
   "metadata": {},
   "outputs": [
    {
     "name": "stdout",
     "output_type": "stream",
     "text": [
      "0.00      231.0\n",
      "0.25     1310.0\n",
      "0.50     4480.0\n",
      "0.75    12075.0\n",
      "0.90    31670.0\n",
      "0.95    44755.0\n",
      "0.98    50076.0\n",
      "0.99    51986.0\n",
      "1.00    58000.0\n",
      "Name: gdpp, dtype: float64\n"
     ]
    },
    {
     "data": {
      "image/png": "[encoded data removed]",
      "text/plain": [
       "<Figure size 432x288 with 1 Axes>"
      ]
     },
     "metadata": {
      "needs_background": "light"
     },
     "output_type": "display_data"
    }
   ],
   "source": [
    "# GDPP:\n",
    "sns.boxplot(countries['gdpp'])\n",
    "print(countries['gdpp'].quantile([0, 0.25, 0.50, 0.75, 0.90, 0.95, 0.98, 0.99, 1]))"
   ]
  },
  {
   "cell_type": "code",
   "execution_count": 28,
   "metadata": {},
   "outputs": [
    {
     "data": {
      "text/html": [
       "<div>\n",
       "<style scoped>\n",
       "    .dataframe tbody tr th:only-of-type {\n",
       "        vertical-align: middle;\n",
       "    }\n",
       "\n",
       "    .dataframe tbody tr th {\n",
       "        vertical-align: top;\n",
       "    }\n",
       "\n",
       "    .dataframe thead th {\n",
       "        text-align: right;\n",
       "    }\n",
       "</style>\n",
       "<table border=\"1\" class=\"dataframe\">\n",
       "  <thead>\n",
       "    <tr style=\"text-align: right;\">\n",
       "      <th></th>\n",
       "      <th>country</th>\n",
       "      <th>child_mort</th>\n",
       "      <th>exports</th>\n",
       "      <th>health</th>\n",
       "      <th>imports</th>\n",
       "      <th>income</th>\n",
       "      <th>inflation</th>\n",
       "      <th>life_expec</th>\n",
       "      <th>total_fer</th>\n",
       "      <th>gdpp</th>\n",
       "    </tr>\n",
       "  </thead>\n",
       "  <tbody>\n",
       "    <tr>\n",
       "      <th>7</th>\n",
       "      <td>Australia</td>\n",
       "      <td>4.8</td>\n",
       "      <td>10276.2</td>\n",
       "      <td>4530.87</td>\n",
       "      <td>10847.1</td>\n",
       "      <td>41400</td>\n",
       "      <td>1.160</td>\n",
       "      <td>82.0</td>\n",
       "      <td>1.93</td>\n",
       "      <td>51900</td>\n",
       "    </tr>\n",
       "    <tr>\n",
       "      <th>44</th>\n",
       "      <td>Denmark</td>\n",
       "      <td>4.1</td>\n",
       "      <td>29290.0</td>\n",
       "      <td>6612.00</td>\n",
       "      <td>25288.0</td>\n",
       "      <td>44000</td>\n",
       "      <td>3.220</td>\n",
       "      <td>79.5</td>\n",
       "      <td>1.87</td>\n",
       "      <td>58000</td>\n",
       "    </tr>\n",
       "    <tr>\n",
       "      <th>110</th>\n",
       "      <td>Netherlands</td>\n",
       "      <td>4.5</td>\n",
       "      <td>36216.0</td>\n",
       "      <td>5985.70</td>\n",
       "      <td>31990.8</td>\n",
       "      <td>45500</td>\n",
       "      <td>0.848</td>\n",
       "      <td>80.7</td>\n",
       "      <td>1.79</td>\n",
       "      <td>50300</td>\n",
       "    </tr>\n",
       "    <tr>\n",
       "      <th>144</th>\n",
       "      <td>Sweden</td>\n",
       "      <td>3.0</td>\n",
       "      <td>24070.2</td>\n",
       "      <td>5017.23</td>\n",
       "      <td>21204.7</td>\n",
       "      <td>42900</td>\n",
       "      <td>0.991</td>\n",
       "      <td>81.5</td>\n",
       "      <td>1.98</td>\n",
       "      <td>52100</td>\n",
       "    </tr>\n",
       "  </tbody>\n",
       "</table>\n",
       "</div>"
      ],
      "text/plain": [
       "         country  child_mort  exports   health  imports  income  inflation  \\\n",
       "7      Australia         4.8  10276.2  4530.87  10847.1   41400      1.160   \n",
       "44       Denmark         4.1  29290.0  6612.00  25288.0   44000      3.220   \n",
       "110  Netherlands         4.5  36216.0  5985.70  31990.8   45500      0.848   \n",
       "144       Sweden         3.0  24070.2  5017.23  21204.7   42900      0.991   \n",
       "\n",
       "     life_expec  total_fer   gdpp  \n",
       "7          82.0       1.93  51900  \n",
       "44         79.5       1.87  58000  \n",
       "110        80.7       1.79  50300  \n",
       "144        81.5       1.98  52100  "
      ]
     },
     "execution_count": 28,
     "metadata": {},
     "output_type": "execute_result"
    }
   ],
   "source": [
    "countries[countries['gdpp'] > 50000]"
   ]
  },
  {
   "cell_type": "markdown",
   "metadata": {},
   "source": [
    "Although these countries have a higher per capita GDP, it can be seen that their net income per person lies between the 75th and the 95th percentile.<br>\n",
    "Let us not remove these countries as of now."
   ]
  },
  {
   "cell_type": "code",
   "execution_count": 29,
   "metadata": {
    "scrolled": true
   },
   "outputs": [],
   "source": [
    "# Resetting the index of the DataFrame:\n",
    "countries = countries.reset_index(drop= True)"
   ]
  },
  {
   "cell_type": "markdown",
   "metadata": {},
   "source": [
    "We started off with 167 countries and now we are down to 158. Let us proceed with the data preparation."
   ]
  },
  {
   "cell_type": "markdown",
   "metadata": {},
   "source": [
    "## Data Preparation:"
   ]
  },
  {
   "cell_type": "code",
   "execution_count": 30,
   "metadata": {},
   "outputs": [
    {
     "data": {
      "text/html": [
       "<div>\n",
       "<style scoped>\n",
       "    .dataframe tbody tr th:only-of-type {\n",
       "        vertical-align: middle;\n",
       "    }\n",
       "\n",
       "    .dataframe tbody tr th {\n",
       "        vertical-align: top;\n",
       "    }\n",
       "\n",
       "    .dataframe thead th {\n",
       "        text-align: right;\n",
       "    }\n",
       "</style>\n",
       "<table border=\"1\" class=\"dataframe\">\n",
       "  <thead>\n",
       "    <tr style=\"text-align: right;\">\n",
       "      <th></th>\n",
       "      <th>child_mort</th>\n",
       "      <th>exports</th>\n",
       "      <th>health</th>\n",
       "      <th>imports</th>\n",
       "      <th>income</th>\n",
       "      <th>inflation</th>\n",
       "      <th>life_expec</th>\n",
       "      <th>total_fer</th>\n",
       "      <th>gdpp</th>\n",
       "    </tr>\n",
       "  </thead>\n",
       "  <tbody>\n",
       "    <tr>\n",
       "      <th>count</th>\n",
       "      <td>158.000000</td>\n",
       "      <td>158.000000</td>\n",
       "      <td>158.000000</td>\n",
       "      <td>158.000000</td>\n",
       "      <td>158.000000</td>\n",
       "      <td>158.000000</td>\n",
       "      <td>158.000000</td>\n",
       "      <td>158.000000</td>\n",
       "      <td>158.000000</td>\n",
       "    </tr>\n",
       "    <tr>\n",
       "      <th>mean</th>\n",
       "      <td>40.073418</td>\n",
       "      <td>4767.262959</td>\n",
       "      <td>862.886361</td>\n",
       "      <td>4664.932925</td>\n",
       "      <td>13884.575949</td>\n",
       "      <td>7.855222</td>\n",
       "      <td>70.035443</td>\n",
       "      <td>3.013544</td>\n",
       "      <td>10275.405063</td>\n",
       "    </tr>\n",
       "    <tr>\n",
       "      <th>std</th>\n",
       "      <td>40.723066</td>\n",
       "      <td>7725.026618</td>\n",
       "      <td>1414.962144</td>\n",
       "      <td>6981.810546</td>\n",
       "      <td>12922.625089</td>\n",
       "      <td>10.782475</td>\n",
       "      <td>8.849557</td>\n",
       "      <td>1.528920</td>\n",
       "      <td>13694.352433</td>\n",
       "    </tr>\n",
       "    <tr>\n",
       "      <th>min</th>\n",
       "      <td>2.600000</td>\n",
       "      <td>1.076920</td>\n",
       "      <td>12.821200</td>\n",
       "      <td>0.651092</td>\n",
       "      <td>609.000000</td>\n",
       "      <td>-4.210000</td>\n",
       "      <td>32.100000</td>\n",
       "      <td>1.230000</td>\n",
       "      <td>231.000000</td>\n",
       "    </tr>\n",
       "    <tr>\n",
       "      <th>25%</th>\n",
       "      <td>10.050000</td>\n",
       "      <td>428.284500</td>\n",
       "      <td>67.989000</td>\n",
       "      <td>536.700000</td>\n",
       "      <td>3290.000000</td>\n",
       "      <td>1.857500</td>\n",
       "      <td>64.150000</td>\n",
       "      <td>1.815000</td>\n",
       "      <td>1310.000000</td>\n",
       "    </tr>\n",
       "    <tr>\n",
       "      <th>50%</th>\n",
       "      <td>20.900000</td>\n",
       "      <td>1634.595000</td>\n",
       "      <td>273.188000</td>\n",
       "      <td>1823.400000</td>\n",
       "      <td>9790.000000</td>\n",
       "      <td>5.265000</td>\n",
       "      <td>71.850000</td>\n",
       "      <td>2.530000</td>\n",
       "      <td>4480.000000</td>\n",
       "    </tr>\n",
       "    <tr>\n",
       "      <th>75%</th>\n",
       "      <td>62.500000</td>\n",
       "      <td>5629.750000</td>\n",
       "      <td>812.497500</td>\n",
       "      <td>5872.430000</td>\n",
       "      <td>20100.000000</td>\n",
       "      <td>10.475000</td>\n",
       "      <td>76.400000</td>\n",
       "      <td>4.200000</td>\n",
       "      <td>12075.000000</td>\n",
       "    </tr>\n",
       "    <tr>\n",
       "      <th>max</th>\n",
       "      <td>208.000000</td>\n",
       "      <td>50161.000000</td>\n",
       "      <td>6612.000000</td>\n",
       "      <td>42125.500000</td>\n",
       "      <td>45700.000000</td>\n",
       "      <td>104.000000</td>\n",
       "      <td>82.800000</td>\n",
       "      <td>7.490000</td>\n",
       "      <td>58000.000000</td>\n",
       "    </tr>\n",
       "  </tbody>\n",
       "</table>\n",
       "</div>"
      ],
      "text/plain": [
       "       child_mort       exports       health       imports        income  \\\n",
       "count  158.000000    158.000000   158.000000    158.000000    158.000000   \n",
       "mean    40.073418   4767.262959   862.886361   4664.932925  13884.575949   \n",
       "std     40.723066   7725.026618  1414.962144   6981.810546  12922.625089   \n",
       "min      2.600000      1.076920    12.821200      0.651092    609.000000   \n",
       "25%     10.050000    428.284500    67.989000    536.700000   3290.000000   \n",
       "50%     20.900000   1634.595000   273.188000   1823.400000   9790.000000   \n",
       "75%     62.500000   5629.750000   812.497500   5872.430000  20100.000000   \n",
       "max    208.000000  50161.000000  6612.000000  42125.500000  45700.000000   \n",
       "\n",
       "        inflation  life_expec   total_fer          gdpp  \n",
       "count  158.000000  158.000000  158.000000    158.000000  \n",
       "mean     7.855222   70.035443    3.013544  10275.405063  \n",
       "std     10.782475    8.849557    1.528920  13694.352433  \n",
       "min     -4.210000   32.100000    1.230000    231.000000  \n",
       "25%      1.857500   64.150000    1.815000   1310.000000  \n",
       "50%      5.265000   71.850000    2.530000   4480.000000  \n",
       "75%     10.475000   76.400000    4.200000  12075.000000  \n",
       "max    104.000000   82.800000    7.490000  58000.000000  "
      ]
     },
     "execution_count": 30,
     "metadata": {},
     "output_type": "execute_result"
    }
   ],
   "source": [
    "countries.describe()\n",
    "# The columns in the data are on different scales and the variation in the values is high."
   ]
  },
  {
   "cell_type": "code",
   "execution_count": 31,
   "metadata": {},
   "outputs": [],
   "source": [
    "# importing the Standardization library:\n",
    "from sklearn.preprocessing import StandardScaler"
   ]
  },
  {
   "cell_type": "code",
   "execution_count": 32,
   "metadata": {},
   "outputs": [],
   "source": [
    "# Instantiating the scaler variable:\n",
    "scaler = StandardScaler()\n",
    "\n",
    "# Fit and Transform:\n",
    "scaled_df = scaler.fit_transform(countries[['child_mort', 'exports', 'health', 'imports', 'income',\n",
    "                                             'inflation', 'life_expec', 'total_fer', 'gdpp']])"
   ]
  },
  {
   "cell_type": "code",
   "execution_count": 33,
   "metadata": {
    "scrolled": true
   },
   "outputs": [
    {
     "data": {
      "text/html": [
       "<div>\n",
       "<style scoped>\n",
       "    .dataframe tbody tr th:only-of-type {\n",
       "        vertical-align: middle;\n",
       "    }\n",
       "\n",
       "    .dataframe tbody tr th {\n",
       "        vertical-align: top;\n",
       "    }\n",
       "\n",
       "    .dataframe thead th {\n",
       "        text-align: right;\n",
       "    }\n",
       "</style>\n",
       "<table border=\"1\" class=\"dataframe\">\n",
       "  <thead>\n",
       "    <tr style=\"text-align: right;\">\n",
       "      <th></th>\n",
       "      <th>0</th>\n",
       "      <th>1</th>\n",
       "      <th>2</th>\n",
       "      <th>3</th>\n",
       "      <th>4</th>\n",
       "      <th>5</th>\n",
       "      <th>6</th>\n",
       "      <th>7</th>\n",
       "      <th>8</th>\n",
       "    </tr>\n",
       "  </thead>\n",
       "  <tbody>\n",
       "    <tr>\n",
       "      <th>0</th>\n",
       "      <td>1.234828</td>\n",
       "      <td>-0.611900</td>\n",
       "      <td>-0.582050</td>\n",
       "      <td>-0.634603</td>\n",
       "      <td>-0.952872</td>\n",
       "      <td>0.147445</td>\n",
       "      <td>-1.568376</td>\n",
       "      <td>1.841418</td>\n",
       "      <td>-0.712215</td>\n",
       "    </tr>\n",
       "    <tr>\n",
       "      <th>1</th>\n",
       "      <td>-0.578249</td>\n",
       "      <td>-0.470365</td>\n",
       "      <td>-0.421837</td>\n",
       "      <td>-0.384672</td>\n",
       "      <td>-0.306993</td>\n",
       "      <td>-0.313093</td>\n",
       "      <td>0.710146</td>\n",
       "      <td>-0.894671</td>\n",
       "      <td>-0.453112</td>\n",
       "    </tr>\n",
       "    <tr>\n",
       "      <th>2</th>\n",
       "      <td>-0.314663</td>\n",
       "      <td>-0.396676</td>\n",
       "      <td>-0.479912</td>\n",
       "      <td>-0.469058</td>\n",
       "      <td>-0.076432</td>\n",
       "      <td>0.767077</td>\n",
       "      <td>0.732818</td>\n",
       "      <td>-0.081062</td>\n",
       "      <td>-0.426007</td>\n",
       "    </tr>\n",
       "    <tr>\n",
       "      <th>3</th>\n",
       "      <td>1.944292</td>\n",
       "      <td>-0.333493</td>\n",
       "      <td>-0.540442</td>\n",
       "      <td>-0.452688</td>\n",
       "      <td>-0.619840</td>\n",
       "      <td>1.353217</td>\n",
       "      <td>-1.126275</td>\n",
       "      <td>2.064504</td>\n",
       "      <td>-0.494135</td>\n",
       "    </tr>\n",
       "    <tr>\n",
       "      <th>4</th>\n",
       "      <td>-0.733444</td>\n",
       "      <td>0.101777</td>\n",
       "      <td>-0.090201</td>\n",
       "      <td>0.362210</td>\n",
       "      <td>0.404872</td>\n",
       "      <td>-0.596859</td>\n",
       "      <td>0.766825</td>\n",
       "      <td>-0.579726</td>\n",
       "      <td>0.140986</td>\n",
       "    </tr>\n",
       "  </tbody>\n",
       "</table>\n",
       "</div>"
      ],
      "text/plain": [
       "          0         1         2         3         4         5         6  \\\n",
       "0  1.234828 -0.611900 -0.582050 -0.634603 -0.952872  0.147445 -1.568376   \n",
       "1 -0.578249 -0.470365 -0.421837 -0.384672 -0.306993 -0.313093  0.710146   \n",
       "2 -0.314663 -0.396676 -0.479912 -0.469058 -0.076432  0.767077  0.732818   \n",
       "3  1.944292 -0.333493 -0.540442 -0.452688 -0.619840  1.353217 -1.126275   \n",
       "4 -0.733444  0.101777 -0.090201  0.362210  0.404872 -0.596859  0.766825   \n",
       "\n",
       "          7         8  \n",
       "0  1.841418 -0.712215  \n",
       "1 -0.894671 -0.453112  \n",
       "2 -0.081062 -0.426007  \n",
       "3  2.064504 -0.494135  \n",
       "4 -0.579726  0.140986  "
      ]
     },
     "execution_count": 33,
     "metadata": {},
     "output_type": "execute_result"
    }
   ],
   "source": [
    "# Converting the scaled variables into a dataframe:\n",
    "scaled_df = pd.DataFrame(scaled_df)\n",
    "scaled_df.head()"
   ]
  },
  {
   "cell_type": "code",
   "execution_count": 34,
   "metadata": {
    "scrolled": true
   },
   "outputs": [
    {
     "data": {
      "text/html": [
       "<div>\n",
       "<style scoped>\n",
       "    .dataframe tbody tr th:only-of-type {\n",
       "        vertical-align: middle;\n",
       "    }\n",
       "\n",
       "    .dataframe tbody tr th {\n",
       "        vertical-align: top;\n",
       "    }\n",
       "\n",
       "    .dataframe thead th {\n",
       "        text-align: right;\n",
       "    }\n",
       "</style>\n",
       "<table border=\"1\" class=\"dataframe\">\n",
       "  <thead>\n",
       "    <tr style=\"text-align: right;\">\n",
       "      <th></th>\n",
       "      <th>country</th>\n",
       "    </tr>\n",
       "  </thead>\n",
       "  <tbody>\n",
       "    <tr>\n",
       "      <th>0</th>\n",
       "      <td>Afghanistan</td>\n",
       "    </tr>\n",
       "    <tr>\n",
       "      <th>1</th>\n",
       "      <td>Albania</td>\n",
       "    </tr>\n",
       "    <tr>\n",
       "      <th>2</th>\n",
       "      <td>Algeria</td>\n",
       "    </tr>\n",
       "    <tr>\n",
       "      <th>3</th>\n",
       "      <td>Angola</td>\n",
       "    </tr>\n",
       "    <tr>\n",
       "      <th>4</th>\n",
       "      <td>Antigua and Barbuda</td>\n",
       "    </tr>\n",
       "  </tbody>\n",
       "</table>\n",
       "</div>"
      ],
      "text/plain": [
       "               country\n",
       "0          Afghanistan\n",
       "1              Albania\n",
       "2              Algeria\n",
       "3               Angola\n",
       "4  Antigua and Barbuda"
      ]
     },
     "execution_count": 34,
     "metadata": {},
     "output_type": "execute_result"
    }
   ],
   "source": [
    "# Dropping redundant variables from the dataframe:\n",
    "countries = countries.drop(['child_mort', 'exports', 'health', 'imports', 'income',\n",
    "                'inflation', 'life_expec', 'total_fer', 'gdpp'], 1)\n",
    "countries.head()"
   ]
  },
  {
   "cell_type": "code",
   "execution_count": 35,
   "metadata": {},
   "outputs": [
    {
     "data": {
      "text/html": [
       "<div>\n",
       "<style scoped>\n",
       "    .dataframe tbody tr th:only-of-type {\n",
       "        vertical-align: middle;\n",
       "    }\n",
       "\n",
       "    .dataframe tbody tr th {\n",
       "        vertical-align: top;\n",
       "    }\n",
       "\n",
       "    .dataframe thead th {\n",
       "        text-align: right;\n",
       "    }\n",
       "</style>\n",
       "<table border=\"1\" class=\"dataframe\">\n",
       "  <thead>\n",
       "    <tr style=\"text-align: right;\">\n",
       "      <th></th>\n",
       "      <th>country</th>\n",
       "      <th>0</th>\n",
       "      <th>1</th>\n",
       "      <th>2</th>\n",
       "      <th>3</th>\n",
       "      <th>4</th>\n",
       "      <th>5</th>\n",
       "      <th>6</th>\n",
       "      <th>7</th>\n",
       "      <th>8</th>\n",
       "    </tr>\n",
       "  </thead>\n",
       "  <tbody>\n",
       "    <tr>\n",
       "      <th>0</th>\n",
       "      <td>Afghanistan</td>\n",
       "      <td>1.234828</td>\n",
       "      <td>-0.611900</td>\n",
       "      <td>-0.582050</td>\n",
       "      <td>-0.634603</td>\n",
       "      <td>-0.952872</td>\n",
       "      <td>0.147445</td>\n",
       "      <td>-1.568376</td>\n",
       "      <td>1.841418</td>\n",
       "      <td>-0.712215</td>\n",
       "    </tr>\n",
       "    <tr>\n",
       "      <th>1</th>\n",
       "      <td>Albania</td>\n",
       "      <td>-0.578249</td>\n",
       "      <td>-0.470365</td>\n",
       "      <td>-0.421837</td>\n",
       "      <td>-0.384672</td>\n",
       "      <td>-0.306993</td>\n",
       "      <td>-0.313093</td>\n",
       "      <td>0.710146</td>\n",
       "      <td>-0.894671</td>\n",
       "      <td>-0.453112</td>\n",
       "    </tr>\n",
       "    <tr>\n",
       "      <th>2</th>\n",
       "      <td>Algeria</td>\n",
       "      <td>-0.314663</td>\n",
       "      <td>-0.396676</td>\n",
       "      <td>-0.479912</td>\n",
       "      <td>-0.469058</td>\n",
       "      <td>-0.076432</td>\n",
       "      <td>0.767077</td>\n",
       "      <td>0.732818</td>\n",
       "      <td>-0.081062</td>\n",
       "      <td>-0.426007</td>\n",
       "    </tr>\n",
       "    <tr>\n",
       "      <th>3</th>\n",
       "      <td>Angola</td>\n",
       "      <td>1.944292</td>\n",
       "      <td>-0.333493</td>\n",
       "      <td>-0.540442</td>\n",
       "      <td>-0.452688</td>\n",
       "      <td>-0.619840</td>\n",
       "      <td>1.353217</td>\n",
       "      <td>-1.126275</td>\n",
       "      <td>2.064504</td>\n",
       "      <td>-0.494135</td>\n",
       "    </tr>\n",
       "    <tr>\n",
       "      <th>4</th>\n",
       "      <td>Antigua and Barbuda</td>\n",
       "      <td>-0.733444</td>\n",
       "      <td>0.101777</td>\n",
       "      <td>-0.090201</td>\n",
       "      <td>0.362210</td>\n",
       "      <td>0.404872</td>\n",
       "      <td>-0.596859</td>\n",
       "      <td>0.766825</td>\n",
       "      <td>-0.579726</td>\n",
       "      <td>0.140986</td>\n",
       "    </tr>\n",
       "  </tbody>\n",
       "</table>\n",
       "</div>"
      ],
      "text/plain": [
       "               country         0         1         2         3         4  \\\n",
       "0          Afghanistan  1.234828 -0.611900 -0.582050 -0.634603 -0.952872   \n",
       "1              Albania -0.578249 -0.470365 -0.421837 -0.384672 -0.306993   \n",
       "2              Algeria -0.314663 -0.396676 -0.479912 -0.469058 -0.076432   \n",
       "3               Angola  1.944292 -0.333493 -0.540442 -0.452688 -0.619840   \n",
       "4  Antigua and Barbuda -0.733444  0.101777 -0.090201  0.362210  0.404872   \n",
       "\n",
       "          5         6         7         8  \n",
       "0  0.147445 -1.568376  1.841418 -0.712215  \n",
       "1 -0.313093  0.710146 -0.894671 -0.453112  \n",
       "2  0.767077  0.732818 -0.081062 -0.426007  \n",
       "3  1.353217 -1.126275  2.064504 -0.494135  \n",
       "4 -0.596859  0.766825 -0.579726  0.140986  "
      ]
     },
     "execution_count": 35,
     "metadata": {},
     "output_type": "execute_result"
    }
   ],
   "source": [
    "# Concantenating the two dataframes to get the final scaled dataframe:\n",
    "countries = pd.concat([countries, scaled_df], axis=1)\n",
    "countries.head()"
   ]
  },
  {
   "cell_type": "code",
   "execution_count": 36,
   "metadata": {},
   "outputs": [
    {
     "data": {
      "text/html": [
       "<div>\n",
       "<style scoped>\n",
       "    .dataframe tbody tr th:only-of-type {\n",
       "        vertical-align: middle;\n",
       "    }\n",
       "\n",
       "    .dataframe tbody tr th {\n",
       "        vertical-align: top;\n",
       "    }\n",
       "\n",
       "    .dataframe thead th {\n",
       "        text-align: right;\n",
       "    }\n",
       "</style>\n",
       "<table border=\"1\" class=\"dataframe\">\n",
       "  <thead>\n",
       "    <tr style=\"text-align: right;\">\n",
       "      <th></th>\n",
       "      <th>country</th>\n",
       "      <th>child_mort</th>\n",
       "      <th>exports</th>\n",
       "      <th>health</th>\n",
       "      <th>imports</th>\n",
       "      <th>income</th>\n",
       "      <th>inflation</th>\n",
       "      <th>life_expec</th>\n",
       "      <th>total_fer</th>\n",
       "      <th>gdpp</th>\n",
       "    </tr>\n",
       "  </thead>\n",
       "  <tbody>\n",
       "    <tr>\n",
       "      <th>0</th>\n",
       "      <td>Afghanistan</td>\n",
       "      <td>1.234828</td>\n",
       "      <td>-0.611900</td>\n",
       "      <td>-0.582050</td>\n",
       "      <td>-0.634603</td>\n",
       "      <td>-0.952872</td>\n",
       "      <td>0.147445</td>\n",
       "      <td>-1.568376</td>\n",
       "      <td>1.841418</td>\n",
       "      <td>-0.712215</td>\n",
       "    </tr>\n",
       "    <tr>\n",
       "      <th>1</th>\n",
       "      <td>Albania</td>\n",
       "      <td>-0.578249</td>\n",
       "      <td>-0.470365</td>\n",
       "      <td>-0.421837</td>\n",
       "      <td>-0.384672</td>\n",
       "      <td>-0.306993</td>\n",
       "      <td>-0.313093</td>\n",
       "      <td>0.710146</td>\n",
       "      <td>-0.894671</td>\n",
       "      <td>-0.453112</td>\n",
       "    </tr>\n",
       "    <tr>\n",
       "      <th>2</th>\n",
       "      <td>Algeria</td>\n",
       "      <td>-0.314663</td>\n",
       "      <td>-0.396676</td>\n",
       "      <td>-0.479912</td>\n",
       "      <td>-0.469058</td>\n",
       "      <td>-0.076432</td>\n",
       "      <td>0.767077</td>\n",
       "      <td>0.732818</td>\n",
       "      <td>-0.081062</td>\n",
       "      <td>-0.426007</td>\n",
       "    </tr>\n",
       "    <tr>\n",
       "      <th>3</th>\n",
       "      <td>Angola</td>\n",
       "      <td>1.944292</td>\n",
       "      <td>-0.333493</td>\n",
       "      <td>-0.540442</td>\n",
       "      <td>-0.452688</td>\n",
       "      <td>-0.619840</td>\n",
       "      <td>1.353217</td>\n",
       "      <td>-1.126275</td>\n",
       "      <td>2.064504</td>\n",
       "      <td>-0.494135</td>\n",
       "    </tr>\n",
       "    <tr>\n",
       "      <th>4</th>\n",
       "      <td>Antigua and Barbuda</td>\n",
       "      <td>-0.733444</td>\n",
       "      <td>0.101777</td>\n",
       "      <td>-0.090201</td>\n",
       "      <td>0.362210</td>\n",
       "      <td>0.404872</td>\n",
       "      <td>-0.596859</td>\n",
       "      <td>0.766825</td>\n",
       "      <td>-0.579726</td>\n",
       "      <td>0.140986</td>\n",
       "    </tr>\n",
       "  </tbody>\n",
       "</table>\n",
       "</div>"
      ],
      "text/plain": [
       "               country  child_mort   exports    health   imports    income  \\\n",
       "0          Afghanistan    1.234828 -0.611900 -0.582050 -0.634603 -0.952872   \n",
       "1              Albania   -0.578249 -0.470365 -0.421837 -0.384672 -0.306993   \n",
       "2              Algeria   -0.314663 -0.396676 -0.479912 -0.469058 -0.076432   \n",
       "3               Angola    1.944292 -0.333493 -0.540442 -0.452688 -0.619840   \n",
       "4  Antigua and Barbuda   -0.733444  0.101777 -0.090201  0.362210  0.404872   \n",
       "\n",
       "   inflation  life_expec  total_fer      gdpp  \n",
       "0   0.147445   -1.568376   1.841418 -0.712215  \n",
       "1  -0.313093    0.710146  -0.894671 -0.453112  \n",
       "2   0.767077    0.732818  -0.081062 -0.426007  \n",
       "3   1.353217   -1.126275   2.064504 -0.494135  \n",
       "4  -0.596859    0.766825  -0.579726  0.140986  "
      ]
     },
     "execution_count": 36,
     "metadata": {},
     "output_type": "execute_result"
    }
   ],
   "source": [
    "# Renaming the columns:\n",
    "countries.columns = ['country', 'child_mort', 'exports', 'health', 'imports', 'income',\n",
    "                     'inflation', 'life_expec', 'total_fer', 'gdpp']\n",
    "\n",
    "countries.head()"
   ]
  },
  {
   "cell_type": "code",
   "execution_count": 37,
   "metadata": {},
   "outputs": [
    {
     "data": {
      "text/html": [
       "<div>\n",
       "<style scoped>\n",
       "    .dataframe tbody tr th:only-of-type {\n",
       "        vertical-align: middle;\n",
       "    }\n",
       "\n",
       "    .dataframe tbody tr th {\n",
       "        vertical-align: top;\n",
       "    }\n",
       "\n",
       "    .dataframe thead th {\n",
       "        text-align: right;\n",
       "    }\n",
       "</style>\n",
       "<table border=\"1\" class=\"dataframe\">\n",
       "  <thead>\n",
       "    <tr style=\"text-align: right;\">\n",
       "      <th></th>\n",
       "      <th>child_mort</th>\n",
       "      <th>exports</th>\n",
       "      <th>health</th>\n",
       "      <th>imports</th>\n",
       "      <th>income</th>\n",
       "      <th>inflation</th>\n",
       "      <th>life_expec</th>\n",
       "      <th>total_fer</th>\n",
       "      <th>gdpp</th>\n",
       "    </tr>\n",
       "  </thead>\n",
       "  <tbody>\n",
       "    <tr>\n",
       "      <th>count</th>\n",
       "      <td>1.580000e+02</td>\n",
       "      <td>1.580000e+02</td>\n",
       "      <td>1.580000e+02</td>\n",
       "      <td>1.580000e+02</td>\n",
       "      <td>1.580000e+02</td>\n",
       "      <td>1.580000e+02</td>\n",
       "      <td>1.580000e+02</td>\n",
       "      <td>1.580000e+02</td>\n",
       "      <td>1.580000e+02</td>\n",
       "    </tr>\n",
       "    <tr>\n",
       "      <th>mean</th>\n",
       "      <td>-1.124276e-16</td>\n",
       "      <td>-5.832184e-17</td>\n",
       "      <td>2.599889e-17</td>\n",
       "      <td>-4.567373e-17</td>\n",
       "      <td>3.583631e-17</td>\n",
       "      <td>-1.644254e-16</td>\n",
       "      <td>-2.029319e-15</td>\n",
       "      <td>1.728575e-16</td>\n",
       "      <td>3.583631e-17</td>\n",
       "    </tr>\n",
       "    <tr>\n",
       "      <th>std</th>\n",
       "      <td>1.003180e+00</td>\n",
       "      <td>1.003180e+00</td>\n",
       "      <td>1.003180e+00</td>\n",
       "      <td>1.003180e+00</td>\n",
       "      <td>1.003180e+00</td>\n",
       "      <td>1.003180e+00</td>\n",
       "      <td>1.003180e+00</td>\n",
       "      <td>1.003180e+00</td>\n",
       "      <td>1.003180e+00</td>\n",
       "    </tr>\n",
       "    <tr>\n",
       "      <th>min</th>\n",
       "      <td>-9.231272e-01</td>\n",
       "      <td>-6.189417e-01</td>\n",
       "      <td>-6.026791e-01</td>\n",
       "      <td>-6.701861e-01</td>\n",
       "      <td>-1.030579e+00</td>\n",
       "      <td>-1.122524e+00</td>\n",
       "      <td>-4.300336e+00</td>\n",
       "      <td>-1.170248e+00</td>\n",
       "      <td>-7.358028e-01</td>\n",
       "    </tr>\n",
       "    <tr>\n",
       "      <th>25%</th>\n",
       "      <td>-7.396025e-01</td>\n",
       "      <td>-5.634641e-01</td>\n",
       "      <td>-5.635662e-01</td>\n",
       "      <td>-5.931641e-01</td>\n",
       "      <td>-8.224539e-01</td>\n",
       "      <td>-5.580159e-01</td>\n",
       "      <td>-6.671697e-01</td>\n",
       "      <td>-7.864085e-01</td>\n",
       "      <td>-6.567607e-01</td>\n",
       "    </tr>\n",
       "    <tr>\n",
       "      <th>50%</th>\n",
       "      <td>-4.723216e-01</td>\n",
       "      <td>-4.068114e-01</td>\n",
       "      <td>-4.180843e-01</td>\n",
       "      <td>-4.082849e-01</td>\n",
       "      <td>-3.178607e-01</td>\n",
       "      <td>-2.409890e-01</td>\n",
       "      <td>2.056969e-01</td>\n",
       "      <td>-3.172710e-01</td>\n",
       "      <td>-4.245423e-01</td>\n",
       "    </tr>\n",
       "    <tr>\n",
       "      <th>75%</th>\n",
       "      <td>5.524606e-01</td>\n",
       "      <td>1.120034e-01</td>\n",
       "      <td>-3.572469e-02</td>\n",
       "      <td>1.734989e-01</td>\n",
       "      <td>4.825016e-01</td>\n",
       "      <td>2.437389e-01</td>\n",
       "      <td>7.214818e-01</td>\n",
       "      <td>7.784767e-01</td>\n",
       "      <td>1.318293e-01</td>\n",
       "    </tr>\n",
       "    <tr>\n",
       "      <th>max</th>\n",
       "      <td>4.136735e+00</td>\n",
       "      <td>5.894876e+00</td>\n",
       "      <td>4.076006e+00</td>\n",
       "      <td>5.382512e+00</td>\n",
       "      <td>2.469822e+00</td>\n",
       "      <td>8.945115e+00</td>\n",
       "      <td>1.446981e+00</td>\n",
       "      <td>2.937165e+00</td>\n",
       "      <td>3.496065e+00</td>\n",
       "    </tr>\n",
       "  </tbody>\n",
       "</table>\n",
       "</div>"
      ],
      "text/plain": [
       "         child_mort       exports        health       imports        income  \\\n",
       "count  1.580000e+02  1.580000e+02  1.580000e+02  1.580000e+02  1.580000e+02   \n",
       "mean  -1.124276e-16 -5.832184e-17  2.599889e-17 -4.567373e-17  3.583631e-17   \n",
       "std    1.003180e+00  1.003180e+00  1.003180e+00  1.003180e+00  1.003180e+00   \n",
       "min   -9.231272e-01 -6.189417e-01 -6.026791e-01 -6.701861e-01 -1.030579e+00   \n",
       "25%   -7.396025e-01 -5.634641e-01 -5.635662e-01 -5.931641e-01 -8.224539e-01   \n",
       "50%   -4.723216e-01 -4.068114e-01 -4.180843e-01 -4.082849e-01 -3.178607e-01   \n",
       "75%    5.524606e-01  1.120034e-01 -3.572469e-02  1.734989e-01  4.825016e-01   \n",
       "max    4.136735e+00  5.894876e+00  4.076006e+00  5.382512e+00  2.469822e+00   \n",
       "\n",
       "          inflation    life_expec     total_fer          gdpp  \n",
       "count  1.580000e+02  1.580000e+02  1.580000e+02  1.580000e+02  \n",
       "mean  -1.644254e-16 -2.029319e-15  1.728575e-16  3.583631e-17  \n",
       "std    1.003180e+00  1.003180e+00  1.003180e+00  1.003180e+00  \n",
       "min   -1.122524e+00 -4.300336e+00 -1.170248e+00 -7.358028e-01  \n",
       "25%   -5.580159e-01 -6.671697e-01 -7.864085e-01 -6.567607e-01  \n",
       "50%   -2.409890e-01  2.056969e-01 -3.172710e-01 -4.245423e-01  \n",
       "75%    2.437389e-01  7.214818e-01  7.784767e-01  1.318293e-01  \n",
       "max    8.945115e+00  1.446981e+00  2.937165e+00  3.496065e+00  "
      ]
     },
     "execution_count": 37,
     "metadata": {},
     "output_type": "execute_result"
    }
   ],
   "source": [
    "countries.describe()"
   ]
  },
  {
   "cell_type": "markdown",
   "metadata": {},
   "source": [
    "## Checking the correlation:"
   ]
  },
  {
   "cell_type": "code",
   "execution_count": 38,
   "metadata": {},
   "outputs": [
    {
     "data": {
      "text/plain": [
       "<matplotlib.axes._subplots.AxesSubplot at 0x7f17b1650cf8>"
      ]
     },
     "execution_count": 38,
     "metadata": {},
     "output_type": "execute_result"
    },
    {
     "data": {
      "image/png": "[encoded data removed]",
      "text/plain": [
       "<Figure size 864x576 with 2 Axes>"
      ]
     },
     "metadata": {
      "needs_background": "light"
     },
     "output_type": "display_data"
    }
   ],
   "source": [
    "plt.figure(figsize = (12,8))\n",
    "sns.heatmap(countries.corr(), annot = True)"
   ]
  },
  {
   "cell_type": "markdown",
   "metadata": {},
   "source": [
    "We can see that there is a really high correlation between some of the variables."
   ]
  },
  {
   "cell_type": "markdown",
   "metadata": {},
   "source": [
    "## Principal Component Analysis:"
   ]
  },
  {
   "cell_type": "code",
   "execution_count": 39,
   "metadata": {},
   "outputs": [],
   "source": [
    "# Importing the PCA library:\n",
    "from sklearn.decomposition import PCA"
   ]
  },
  {
   "cell_type": "code",
   "execution_count": 40,
   "metadata": {},
   "outputs": [
    {
     "data": {
      "text/html": [
       "<div>\n",
       "<style scoped>\n",
       "    .dataframe tbody tr th:only-of-type {\n",
       "        vertical-align: middle;\n",
       "    }\n",
       "\n",
       "    .dataframe tbody tr th {\n",
       "        vertical-align: top;\n",
       "    }\n",
       "\n",
       "    .dataframe thead th {\n",
       "        text-align: right;\n",
       "    }\n",
       "</style>\n",
       "<table border=\"1\" class=\"dataframe\">\n",
       "  <thead>\n",
       "    <tr style=\"text-align: right;\">\n",
       "      <th></th>\n",
       "      <th>child_mort</th>\n",
       "      <th>exports</th>\n",
       "      <th>health</th>\n",
       "      <th>imports</th>\n",
       "      <th>income</th>\n",
       "      <th>inflation</th>\n",
       "      <th>life_expec</th>\n",
       "      <th>total_fer</th>\n",
       "      <th>gdpp</th>\n",
       "    </tr>\n",
       "  </thead>\n",
       "  <tbody>\n",
       "    <tr>\n",
       "      <th>0</th>\n",
       "      <td>1.234828</td>\n",
       "      <td>-0.611900</td>\n",
       "      <td>-0.582050</td>\n",
       "      <td>-0.634603</td>\n",
       "      <td>-0.952872</td>\n",
       "      <td>0.147445</td>\n",
       "      <td>-1.568376</td>\n",
       "      <td>1.841418</td>\n",
       "      <td>-0.712215</td>\n",
       "    </tr>\n",
       "    <tr>\n",
       "      <th>1</th>\n",
       "      <td>-0.578249</td>\n",
       "      <td>-0.470365</td>\n",
       "      <td>-0.421837</td>\n",
       "      <td>-0.384672</td>\n",
       "      <td>-0.306993</td>\n",
       "      <td>-0.313093</td>\n",
       "      <td>0.710146</td>\n",
       "      <td>-0.894671</td>\n",
       "      <td>-0.453112</td>\n",
       "    </tr>\n",
       "    <tr>\n",
       "      <th>2</th>\n",
       "      <td>-0.314663</td>\n",
       "      <td>-0.396676</td>\n",
       "      <td>-0.479912</td>\n",
       "      <td>-0.469058</td>\n",
       "      <td>-0.076432</td>\n",
       "      <td>0.767077</td>\n",
       "      <td>0.732818</td>\n",
       "      <td>-0.081062</td>\n",
       "      <td>-0.426007</td>\n",
       "    </tr>\n",
       "    <tr>\n",
       "      <th>3</th>\n",
       "      <td>1.944292</td>\n",
       "      <td>-0.333493</td>\n",
       "      <td>-0.540442</td>\n",
       "      <td>-0.452688</td>\n",
       "      <td>-0.619840</td>\n",
       "      <td>1.353217</td>\n",
       "      <td>-1.126275</td>\n",
       "      <td>2.064504</td>\n",
       "      <td>-0.494135</td>\n",
       "    </tr>\n",
       "    <tr>\n",
       "      <th>4</th>\n",
       "      <td>-0.733444</td>\n",
       "      <td>0.101777</td>\n",
       "      <td>-0.090201</td>\n",
       "      <td>0.362210</td>\n",
       "      <td>0.404872</td>\n",
       "      <td>-0.596859</td>\n",
       "      <td>0.766825</td>\n",
       "      <td>-0.579726</td>\n",
       "      <td>0.140986</td>\n",
       "    </tr>\n",
       "  </tbody>\n",
       "</table>\n",
       "</div>"
      ],
      "text/plain": [
       "   child_mort   exports    health   imports    income  inflation  life_expec  \\\n",
       "0    1.234828 -0.611900 -0.582050 -0.634603 -0.952872   0.147445   -1.568376   \n",
       "1   -0.578249 -0.470365 -0.421837 -0.384672 -0.306993  -0.313093    0.710146   \n",
       "2   -0.314663 -0.396676 -0.479912 -0.469058 -0.076432   0.767077    0.732818   \n",
       "3    1.944292 -0.333493 -0.540442 -0.452688 -0.619840   1.353217   -1.126275   \n",
       "4   -0.733444  0.101777 -0.090201  0.362210  0.404872  -0.596859    0.766825   \n",
       "\n",
       "   total_fer      gdpp  \n",
       "0   1.841418 -0.712215  \n",
       "1  -0.894671 -0.453112  \n",
       "2  -0.081062 -0.426007  \n",
       "3   2.064504 -0.494135  \n",
       "4  -0.579726  0.140986  "
      ]
     },
     "execution_count": 40,
     "metadata": {},
     "output_type": "execute_result"
    }
   ],
   "source": [
    "# Since we can only have numerical data for doing PCA, let us filter it out in a new DataFrame:\n",
    "countries_pca = countries[['child_mort', 'exports', 'health', 'imports', 'income',\n",
    "                           'inflation', 'life_expec', 'total_fer', 'gdpp']]\n",
    "countries_pca.head()"
   ]
  },
  {
   "cell_type": "code",
   "execution_count": 41,
   "metadata": {
    "scrolled": true
   },
   "outputs": [
    {
     "data": {
      "text/plain": [
       "PCA(copy=True, iterated_power='auto', n_components=None, random_state=42,\n",
       "  svd_solver='randomized', tol=0.0, whiten=False)"
      ]
     },
     "execution_count": 41,
     "metadata": {},
     "output_type": "execute_result"
    }
   ],
   "source": [
    "# Initializing PCA:\n",
    "pca = PCA(svd_solver='randomized', random_state = 42)\n",
    "\n",
    "# Fitting PCA:\n",
    "pca.fit(countries_pca)"
   ]
  },
  {
   "cell_type": "code",
   "execution_count": 42,
   "metadata": {},
   "outputs": [
    {
     "data": {
      "text/plain": [
       "array([[-0.3068952 ,  0.35755597,  0.36593942,  0.36544719,  0.38437121,\n",
       "        -0.14721684,  0.33159195, -0.29150399,  0.38231392],\n",
       "       [ 0.50411737,  0.3264987 ,  0.26470913,  0.28966821,  0.10800087,\n",
       "         0.1848366 , -0.37500439,  0.49417982,  0.2336984 ],\n",
       "       [-0.13119581, -0.01468375, -0.0278924 , -0.05580872,  0.12736995,\n",
       "         0.95986332,  0.19361876, -0.05740054,  0.01832203],\n",
       "       [-0.07662863,  0.51619767, -0.47670585,  0.49543963, -0.16293591,\n",
       "         0.05858705, -0.14341677, -0.20172251, -0.40462109],\n",
       "       [ 0.22483067, -0.10188925,  0.10618318, -0.09799774,  0.15894166,\n",
       "         0.07990059, -0.59324883, -0.72412743,  0.10119319],\n",
       "       [ 0.04603657,  0.00803883, -0.49301135, -0.1736141 ,  0.82624913,\n",
       "        -0.10850827, -0.04252363,  0.16236681, -0.044509  ],\n",
       "       [-0.75889205, -0.01009648,  0.08217532, -0.03218945,  0.00848417,\n",
       "         0.02764331, -0.5806242 ,  0.27193957,  0.0654236 ],\n",
       "       [ 0.0023947 , -0.51398865, -0.41921115,  0.52156555, -0.10763953,\n",
       "         0.0193848 , -0.01970491,  0.00902907,  0.52498522],\n",
       "       [-0.00237818,  0.47343887, -0.36216727, -0.47026954, -0.27966952,\n",
       "        -0.00972205,  0.00983446, -0.04548382,  0.58571013]])"
      ]
     },
     "execution_count": 42,
     "metadata": {},
     "output_type": "execute_result"
    }
   ],
   "source": [
    "# Taking a look at the components:\n",
    "pca.components_"
   ]
  },
  {
   "cell_type": "markdown",
   "metadata": {},
   "source": [
    "As seen above, we have a total of 9 components which are the same as the number of features for all the countries."
   ]
  },
  {
   "cell_type": "code",
   "execution_count": 43,
   "metadata": {},
   "outputs": [
    {
     "data": {
      "text/plain": [
       "array([0.6523095 , 0.16102346, 0.09878039, 0.03666873, 0.02567212,\n",
       "       0.01399565, 0.00956569, 0.00112881, 0.00085565])"
      ]
     },
     "execution_count": 43,
     "metadata": {},
     "output_type": "execute_result"
    }
   ],
   "source": [
    "# Let us take a look at the variance that is being explained by each of the components:\n",
    "pca.explained_variance_ratio_"
   ]
  },
  {
   "cell_type": "code",
   "execution_count": 44,
   "metadata": {},
   "outputs": [
    {
     "data": {
      "text/plain": [
       "array([0.6523095 , 0.81333296, 0.91211335, 0.94878208, 0.9744542 ,\n",
       "       0.98844984, 0.99801554, 0.99914435, 1.        ])"
      ]
     },
     "execution_count": 44,
     "metadata": {},
     "output_type": "execute_result"
    }
   ],
   "source": [
    "# Cumulative sum of the variance:\n",
    "np.cumsum(pca.explained_variance_ratio_)"
   ]
  },
  {
   "cell_type": "markdown",
   "metadata": {},
   "source": [
    "We can see that 3 PC's are able to explain about 91% of the variance and 4 PC's can explain around 95% of the variance."
   ]
  },
  {
   "cell_type": "code",
   "execution_count": 45,
   "metadata": {},
   "outputs": [
    {
     "data": {
      "text/html": [
       "<div>\n",
       "<style scoped>\n",
       "    .dataframe tbody tr th:only-of-type {\n",
       "        vertical-align: middle;\n",
       "    }\n",
       "\n",
       "    .dataframe tbody tr th {\n",
       "        vertical-align: top;\n",
       "    }\n",
       "\n",
       "    .dataframe thead th {\n",
       "        text-align: right;\n",
       "    }\n",
       "</style>\n",
       "<table border=\"1\" class=\"dataframe\">\n",
       "  <thead>\n",
       "    <tr style=\"text-align: right;\">\n",
       "      <th></th>\n",
       "      <th>Feature</th>\n",
       "      <th>PC1</th>\n",
       "      <th>PC2</th>\n",
       "      <th>PC3</th>\n",
       "      <th>PC4</th>\n",
       "      <th>PC5</th>\n",
       "      <th>PC6</th>\n",
       "      <th>PC7</th>\n",
       "      <th>PC8</th>\n",
       "      <th>PC9</th>\n",
       "    </tr>\n",
       "  </thead>\n",
       "  <tbody>\n",
       "    <tr>\n",
       "      <th>0</th>\n",
       "      <td>child_mort</td>\n",
       "      <td>-0.306895</td>\n",
       "      <td>0.504117</td>\n",
       "      <td>-0.131196</td>\n",
       "      <td>-0.076629</td>\n",
       "      <td>0.224831</td>\n",
       "      <td>0.046037</td>\n",
       "      <td>-0.758892</td>\n",
       "      <td>0.002395</td>\n",
       "      <td>-0.002378</td>\n",
       "    </tr>\n",
       "    <tr>\n",
       "      <th>1</th>\n",
       "      <td>exports</td>\n",
       "      <td>0.357556</td>\n",
       "      <td>0.326499</td>\n",
       "      <td>-0.014684</td>\n",
       "      <td>0.516198</td>\n",
       "      <td>-0.101889</td>\n",
       "      <td>0.008039</td>\n",
       "      <td>-0.010096</td>\n",
       "      <td>-0.513989</td>\n",
       "      <td>0.473439</td>\n",
       "    </tr>\n",
       "    <tr>\n",
       "      <th>2</th>\n",
       "      <td>health</td>\n",
       "      <td>0.365939</td>\n",
       "      <td>0.264709</td>\n",
       "      <td>-0.027892</td>\n",
       "      <td>-0.476706</td>\n",
       "      <td>0.106183</td>\n",
       "      <td>-0.493011</td>\n",
       "      <td>0.082175</td>\n",
       "      <td>-0.419211</td>\n",
       "      <td>-0.362167</td>\n",
       "    </tr>\n",
       "    <tr>\n",
       "      <th>3</th>\n",
       "      <td>imports</td>\n",
       "      <td>0.365447</td>\n",
       "      <td>0.289668</td>\n",
       "      <td>-0.055809</td>\n",
       "      <td>0.495440</td>\n",
       "      <td>-0.097998</td>\n",
       "      <td>-0.173614</td>\n",
       "      <td>-0.032189</td>\n",
       "      <td>0.521566</td>\n",
       "      <td>-0.470270</td>\n",
       "    </tr>\n",
       "    <tr>\n",
       "      <th>4</th>\n",
       "      <td>income</td>\n",
       "      <td>0.384371</td>\n",
       "      <td>0.108001</td>\n",
       "      <td>0.127370</td>\n",
       "      <td>-0.162936</td>\n",
       "      <td>0.158942</td>\n",
       "      <td>0.826249</td>\n",
       "      <td>0.008484</td>\n",
       "      <td>-0.107640</td>\n",
       "      <td>-0.279670</td>\n",
       "    </tr>\n",
       "    <tr>\n",
       "      <th>5</th>\n",
       "      <td>inflation</td>\n",
       "      <td>-0.147217</td>\n",
       "      <td>0.184837</td>\n",
       "      <td>0.959863</td>\n",
       "      <td>0.058587</td>\n",
       "      <td>0.079901</td>\n",
       "      <td>-0.108508</td>\n",
       "      <td>0.027643</td>\n",
       "      <td>0.019385</td>\n",
       "      <td>-0.009722</td>\n",
       "    </tr>\n",
       "    <tr>\n",
       "      <th>6</th>\n",
       "      <td>life_expec</td>\n",
       "      <td>0.331592</td>\n",
       "      <td>-0.375004</td>\n",
       "      <td>0.193619</td>\n",
       "      <td>-0.143417</td>\n",
       "      <td>-0.593249</td>\n",
       "      <td>-0.042524</td>\n",
       "      <td>-0.580624</td>\n",
       "      <td>-0.019705</td>\n",
       "      <td>0.009834</td>\n",
       "    </tr>\n",
       "    <tr>\n",
       "      <th>7</th>\n",
       "      <td>total_fer</td>\n",
       "      <td>-0.291504</td>\n",
       "      <td>0.494180</td>\n",
       "      <td>-0.057401</td>\n",
       "      <td>-0.201723</td>\n",
       "      <td>-0.724127</td>\n",
       "      <td>0.162367</td>\n",
       "      <td>0.271940</td>\n",
       "      <td>0.009029</td>\n",
       "      <td>-0.045484</td>\n",
       "    </tr>\n",
       "    <tr>\n",
       "      <th>8</th>\n",
       "      <td>gdpp</td>\n",
       "      <td>0.382314</td>\n",
       "      <td>0.233698</td>\n",
       "      <td>0.018322</td>\n",
       "      <td>-0.404621</td>\n",
       "      <td>0.101193</td>\n",
       "      <td>-0.044509</td>\n",
       "      <td>0.065424</td>\n",
       "      <td>0.524985</td>\n",
       "      <td>0.585710</td>\n",
       "    </tr>\n",
       "  </tbody>\n",
       "</table>\n",
       "</div>"
      ],
      "text/plain": [
       "      Feature       PC1       PC2       PC3       PC4       PC5       PC6  \\\n",
       "0  child_mort -0.306895  0.504117 -0.131196 -0.076629  0.224831  0.046037   \n",
       "1     exports  0.357556  0.326499 -0.014684  0.516198 -0.101889  0.008039   \n",
       "2      health  0.365939  0.264709 -0.027892 -0.476706  0.106183 -0.493011   \n",
       "3     imports  0.365447  0.289668 -0.055809  0.495440 -0.097998 -0.173614   \n",
       "4      income  0.384371  0.108001  0.127370 -0.162936  0.158942  0.826249   \n",
       "5   inflation -0.147217  0.184837  0.959863  0.058587  0.079901 -0.108508   \n",
       "6  life_expec  0.331592 -0.375004  0.193619 -0.143417 -0.593249 -0.042524   \n",
       "7   total_fer -0.291504  0.494180 -0.057401 -0.201723 -0.724127  0.162367   \n",
       "8        gdpp  0.382314  0.233698  0.018322 -0.404621  0.101193 -0.044509   \n",
       "\n",
       "        PC7       PC8       PC9  \n",
       "0 -0.758892  0.002395 -0.002378  \n",
       "1 -0.010096 -0.513989  0.473439  \n",
       "2  0.082175 -0.419211 -0.362167  \n",
       "3 -0.032189  0.521566 -0.470270  \n",
       "4  0.008484 -0.107640 -0.279670  \n",
       "5  0.027643  0.019385 -0.009722  \n",
       "6 -0.580624 -0.019705  0.009834  \n",
       "7  0.271940  0.009029 -0.045484  \n",
       "8  0.065424  0.524985  0.585710  "
      ]
     },
     "execution_count": 45,
     "metadata": {},
     "output_type": "execute_result"
    }
   ],
   "source": [
    "# Let us try visualizing the PC's:\n",
    "feature = countries_pca.columns\n",
    "\n",
    "pca_df = pd.DataFrame({'Feature' : feature, 'PC1' : pca.components_[0], 'PC2' :pca.components_[1],\n",
    "                      'PC3' : pca.components_[2], 'PC4' : pca.components_[3], 'PC5': pca.components_[4],\n",
    "                      'PC6' : pca.components_[5], 'PC7' : pca.components_[6], 'PC8': pca.components_[7],\n",
    "                      'PC9' : pca.components_[8]})\n",
    "\n",
    "pca_df"
   ]
  },
  {
   "cell_type": "code",
   "execution_count": 46,
   "metadata": {},
   "outputs": [
    {
     "data": {
      "image/png": "[encoded data removed]",
      "text/plain": [
       "<Figure size 576x432 with 1 Axes>"
      ]
     },
     "metadata": {
      "needs_background": "light"
     },
     "output_type": "display_data"
    }
   ],
   "source": [
    "# PC1 and PC2:\n",
    "%matplotlib inline\n",
    "fig = plt.figure(figsize = (8,6))\n",
    "plt.scatter(pca_df.PC1, pca_df.PC2)\n",
    "plt.xlabel('Principal Component 1')\n",
    "plt.ylabel('Principal Component 2')\n",
    "for i, txt in enumerate(pca_df.Feature):\n",
    "    plt.annotate(txt, (pca_df.PC1[i],pca_df.PC2[i]))\n",
    "plt.tight_layout()\n",
    "plt.show()"
   ]
  },
  {
   "cell_type": "markdown",
   "metadata": {},
   "source": [
    "We can see that the 2nd component has a heavy weightage for Child Mortaility rate and the Total Fertility whereas the 1st component is about a long life expectancy."
   ]
  },
  {
   "cell_type": "code",
   "execution_count": 47,
   "metadata": {},
   "outputs": [
    {
     "data": {
      "image/png": "[encoded data removed]",
      "text/plain": [
       "<Figure size 576x432 with 1 Axes>"
      ]
     },
     "metadata": {
      "needs_background": "light"
     },
     "output_type": "display_data"
    }
   ],
   "source": [
    "# PC1 and PC3:\n",
    "%matplotlib inline\n",
    "fig = plt.figure(figsize = (8,6))\n",
    "plt.scatter(pca_df.PC1, pca_df.PC3)\n",
    "plt.xlabel('Principal Component 1')\n",
    "plt.ylabel('Principal Component 3')\n",
    "for i, txt in enumerate(pca_df.Feature):\n",
    "    plt.annotate(txt, (pca_df.PC1[i],pca_df.PC3[i]))\n",
    "plt.tight_layout()\n",
    "plt.show()"
   ]
  },
  {
   "cell_type": "markdown",
   "metadata": {},
   "source": [
    "PC3 tends towards a higher inflation rate and low child mortality and total fetility whereas PC1 tends towards higher income and a higher life expectancy."
   ]
  },
  {
   "cell_type": "code",
   "execution_count": 48,
   "metadata": {},
   "outputs": [
    {
     "data": {
      "image/png": "[encoded data removed]",
      "text/plain": [
       "<Figure size 576x432 with 1 Axes>"
      ]
     },
     "metadata": {
      "needs_background": "light"
     },
     "output_type": "display_data"
    }
   ],
   "source": [
    "# PC2 and PC3:\n",
    "%matplotlib inline\n",
    "fig = plt.figure(figsize = (8,6))\n",
    "plt.scatter(pca_df.PC2, pca_df.PC3)\n",
    "plt.xlabel('Principal Component 2')\n",
    "plt.ylabel('Principal Component 3')\n",
    "for i, txt in enumerate(pca_df.Feature):\n",
    "    plt.annotate(txt, (pca_df.PC2[i],pca_df.PC3[i]))\n",
    "plt.tight_layout()\n",
    "plt.show()"
   ]
  },
  {
   "cell_type": "markdown",
   "metadata": {},
   "source": [
    "Let us now make a **Scree plot** to get the required number of PC's:"
   ]
  },
  {
   "cell_type": "code",
   "execution_count": 49,
   "metadata": {},
   "outputs": [
    {
     "data": {
      "text/plain": [
       "Text(0,0.5,'% Variance')"
      ]
     },
     "execution_count": 49,
     "metadata": {},
     "output_type": "execute_result"
    },
    {
     "data": {
      "image/png": "[encoded data removed]",
      "text/plain": [
       "<Figure size 720x576 with 1 Axes>"
      ]
     },
     "metadata": {
      "needs_background": "light"
     },
     "output_type": "display_data"
    }
   ],
   "source": [
    "# Scree plot to assess the number of principal components required:\n",
    "plt.figure(figsize = (10,8))\n",
    "plt.plot(np.cumsum(pca.explained_variance_ratio_))\n",
    "plt.xlabel('Number of Principal Components')\n",
    "plt.ylabel('% Variance')"
   ]
  },
  {
   "cell_type": "markdown",
   "metadata": {},
   "source": [
    "Here again we can see that 3 PC's are enough to account for 91% of the variance.<br>\n",
    "Let us take 3 Principal components for our analysis."
   ]
  },
  {
   "cell_type": "code",
   "execution_count": 50,
   "metadata": {},
   "outputs": [],
   "source": [
    "# Importing the incremental PCA library:\n",
    "from sklearn.decomposition import IncrementalPCA"
   ]
  },
  {
   "cell_type": "code",
   "execution_count": 51,
   "metadata": {},
   "outputs": [],
   "source": [
    "# Instantiating the PCA variable with 3 components:\n",
    "pca_i = IncrementalPCA(n_components=3)\n",
    "\n",
    "# Fit and Transform:\n",
    "countries_pca = pca_i.fit_transform(countries_pca)"
   ]
  },
  {
   "cell_type": "code",
   "execution_count": 52,
   "metadata": {},
   "outputs": [
    {
     "data": {
      "text/html": [
       "<div>\n",
       "<style scoped>\n",
       "    .dataframe tbody tr th:only-of-type {\n",
       "        vertical-align: middle;\n",
       "    }\n",
       "\n",
       "    .dataframe tbody tr th {\n",
       "        vertical-align: top;\n",
       "    }\n",
       "\n",
       "    .dataframe thead th {\n",
       "        text-align: right;\n",
       "    }\n",
       "</style>\n",
       "<table border=\"1\" class=\"dataframe\">\n",
       "  <thead>\n",
       "    <tr style=\"text-align: right;\">\n",
       "      <th></th>\n",
       "      <th>0</th>\n",
       "      <th>1</th>\n",
       "      <th>2</th>\n",
       "    </tr>\n",
       "  </thead>\n",
       "  <tbody>\n",
       "    <tr>\n",
       "      <th>0</th>\n",
       "      <td>-2.759700</td>\n",
       "      <td>1.342397</td>\n",
       "      <td>-0.480798</td>\n",
       "    </tr>\n",
       "    <tr>\n",
       "      <th>1</th>\n",
       "      <td>-0.034525</td>\n",
       "      <td>-1.573664</td>\n",
       "      <td>-0.053888</td>\n",
       "    </tr>\n",
       "    <tr>\n",
       "      <th>2</th>\n",
       "      <td>-0.430984</td>\n",
       "      <td>-0.834380</td>\n",
       "      <td>0.964532</td>\n",
       "    </tr>\n",
       "    <tr>\n",
       "      <th>3</th>\n",
       "      <td>-2.680948</td>\n",
       "      <td>2.106209</td>\n",
       "      <td>0.690726</td>\n",
       "    </tr>\n",
       "    <tr>\n",
       "      <th>4</th>\n",
       "      <td>1.081375</td>\n",
       "      <td>-0.863563</td>\n",
       "      <td>-0.262132</td>\n",
       "    </tr>\n",
       "  </tbody>\n",
       "</table>\n",
       "</div>"
      ],
      "text/plain": [
       "          0         1         2\n",
       "0 -2.759700  1.342397 -0.480798\n",
       "1 -0.034525 -1.573664 -0.053888\n",
       "2 -0.430984 -0.834380  0.964532\n",
       "3 -2.680948  2.106209  0.690726\n",
       "4  1.081375 -0.863563 -0.262132"
      ]
     },
     "execution_count": 52,
     "metadata": {},
     "output_type": "execute_result"
    }
   ],
   "source": [
    "pd.DataFrame(countries_pca).head()"
   ]
  },
  {
   "cell_type": "code",
   "execution_count": 53,
   "metadata": {
    "scrolled": false
   },
   "outputs": [
    {
     "data": {
      "text/plain": [
       "<matplotlib.axes._subplots.AxesSubplot at 0x7f17b1bd6a90>"
      ]
     },
     "execution_count": 53,
     "metadata": {},
     "output_type": "execute_result"
    },
    {
     "data": {
      "image/png": "[encoded data removed]",
      "text/plain": [
       "<Figure size 720x576 with 2 Axes>"
      ]
     },
     "metadata": {
      "needs_background": "light"
     },
     "output_type": "display_data"
    }
   ],
   "source": [
    "# Checking the correlation again:\n",
    "corrmat = np.corrcoef(countries_pca.transpose())\n",
    "plt.figure(figsize = (10,8))\n",
    "sns.heatmap(corrmat, annot = True)"
   ]
  },
  {
   "cell_type": "markdown",
   "metadata": {},
   "source": [
    "We can see that the correlation is almost 0 between the components. Therefore we no longer have multicollinearity in our dataset."
   ]
  },
  {
   "cell_type": "code",
   "execution_count": 54,
   "metadata": {},
   "outputs": [
    {
     "data": {
      "text/html": [
       "<div>\n",
       "<style scoped>\n",
       "    .dataframe tbody tr th:only-of-type {\n",
       "        vertical-align: middle;\n",
       "    }\n",
       "\n",
       "    .dataframe tbody tr th {\n",
       "        vertical-align: top;\n",
       "    }\n",
       "\n",
       "    .dataframe thead th {\n",
       "        text-align: right;\n",
       "    }\n",
       "</style>\n",
       "<table border=\"1\" class=\"dataframe\">\n",
       "  <thead>\n",
       "    <tr style=\"text-align: right;\">\n",
       "      <th></th>\n",
       "      <th>PC1</th>\n",
       "      <th>PC2</th>\n",
       "      <th>PC3</th>\n",
       "    </tr>\n",
       "  </thead>\n",
       "  <tbody>\n",
       "    <tr>\n",
       "      <th>0</th>\n",
       "      <td>-2.759700</td>\n",
       "      <td>1.342397</td>\n",
       "      <td>-0.480798</td>\n",
       "    </tr>\n",
       "    <tr>\n",
       "      <th>1</th>\n",
       "      <td>-0.034525</td>\n",
       "      <td>-1.573664</td>\n",
       "      <td>-0.053888</td>\n",
       "    </tr>\n",
       "    <tr>\n",
       "      <th>2</th>\n",
       "      <td>-0.430984</td>\n",
       "      <td>-0.834380</td>\n",
       "      <td>0.964532</td>\n",
       "    </tr>\n",
       "    <tr>\n",
       "      <th>3</th>\n",
       "      <td>-2.680948</td>\n",
       "      <td>2.106209</td>\n",
       "      <td>0.690726</td>\n",
       "    </tr>\n",
       "    <tr>\n",
       "      <th>4</th>\n",
       "      <td>1.081375</td>\n",
       "      <td>-0.863563</td>\n",
       "      <td>-0.262132</td>\n",
       "    </tr>\n",
       "  </tbody>\n",
       "</table>\n",
       "</div>"
      ],
      "text/plain": [
       "        PC1       PC2       PC3\n",
       "0 -2.759700  1.342397 -0.480798\n",
       "1 -0.034525 -1.573664 -0.053888\n",
       "2 -0.430984 -0.834380  0.964532\n",
       "3 -2.680948  2.106209  0.690726\n",
       "4  1.081375 -0.863563 -0.262132"
      ]
     },
     "execution_count": 54,
     "metadata": {},
     "output_type": "execute_result"
    }
   ],
   "source": [
    "# Making a final DataFrame with the required Principal Components:\n",
    "countries_pca = pd.DataFrame(countries_pca)\n",
    "countries_pca.columns = ['PC1', 'PC2', 'PC3']\n",
    "countries_pca.head()"
   ]
  },
  {
   "cell_type": "code",
   "execution_count": 55,
   "metadata": {},
   "outputs": [
    {
     "data": {
      "text/html": [
       "<div>\n",
       "<style scoped>\n",
       "    .dataframe tbody tr th:only-of-type {\n",
       "        vertical-align: middle;\n",
       "    }\n",
       "\n",
       "    .dataframe tbody tr th {\n",
       "        vertical-align: top;\n",
       "    }\n",
       "\n",
       "    .dataframe thead th {\n",
       "        text-align: right;\n",
       "    }\n",
       "</style>\n",
       "<table border=\"1\" class=\"dataframe\">\n",
       "  <thead>\n",
       "    <tr style=\"text-align: right;\">\n",
       "      <th></th>\n",
       "      <th>country</th>\n",
       "      <th>PC1</th>\n",
       "      <th>PC2</th>\n",
       "      <th>PC3</th>\n",
       "    </tr>\n",
       "  </thead>\n",
       "  <tbody>\n",
       "    <tr>\n",
       "      <th>0</th>\n",
       "      <td>Afghanistan</td>\n",
       "      <td>-2.759700</td>\n",
       "      <td>1.342397</td>\n",
       "      <td>-0.480798</td>\n",
       "    </tr>\n",
       "    <tr>\n",
       "      <th>1</th>\n",
       "      <td>Albania</td>\n",
       "      <td>-0.034525</td>\n",
       "      <td>-1.573664</td>\n",
       "      <td>-0.053888</td>\n",
       "    </tr>\n",
       "    <tr>\n",
       "      <th>2</th>\n",
       "      <td>Algeria</td>\n",
       "      <td>-0.430984</td>\n",
       "      <td>-0.834380</td>\n",
       "      <td>0.964532</td>\n",
       "    </tr>\n",
       "    <tr>\n",
       "      <th>3</th>\n",
       "      <td>Angola</td>\n",
       "      <td>-2.680948</td>\n",
       "      <td>2.106209</td>\n",
       "      <td>0.690726</td>\n",
       "    </tr>\n",
       "    <tr>\n",
       "      <th>4</th>\n",
       "      <td>Antigua and Barbuda</td>\n",
       "      <td>1.081375</td>\n",
       "      <td>-0.863563</td>\n",
       "      <td>-0.262132</td>\n",
       "    </tr>\n",
       "  </tbody>\n",
       "</table>\n",
       "</div>"
      ],
      "text/plain": [
       "               country       PC1       PC2       PC3\n",
       "0          Afghanistan -2.759700  1.342397 -0.480798\n",
       "1              Albania -0.034525 -1.573664 -0.053888\n",
       "2              Algeria -0.430984 -0.834380  0.964532\n",
       "3               Angola -2.680948  2.106209  0.690726\n",
       "4  Antigua and Barbuda  1.081375 -0.863563 -0.262132"
      ]
     },
     "execution_count": 55,
     "metadata": {},
     "output_type": "execute_result"
    }
   ],
   "source": [
    "# Assigning country names: \n",
    "country_name = countries['country']\n",
    "\n",
    "# Concatenating the two:\n",
    "countries_pca = pd.concat([country_name, countries_pca], 1)\n",
    "\n",
    "countries_pca.head()"
   ]
  },
  {
   "cell_type": "markdown",
   "metadata": {},
   "source": [
    "Now that we have a final dataframe with all the required Principal Components, let us move forward with Clustering."
   ]
  },
  {
   "cell_type": "markdown",
   "metadata": {},
   "source": [
    "## Clustering:\n",
    "### K-Means Clustering"
   ]
  },
  {
   "cell_type": "code",
   "execution_count": 56,
   "metadata": {},
   "outputs": [],
   "source": [
    "# Importing the Kmeans library:\n",
    "from sklearn.cluster import KMeans"
   ]
  },
  {
   "cell_type": "code",
   "execution_count": 57,
   "metadata": {},
   "outputs": [
    {
     "data": {
      "text/html": [
       "<div>\n",
       "<style scoped>\n",
       "    .dataframe tbody tr th:only-of-type {\n",
       "        vertical-align: middle;\n",
       "    }\n",
       "\n",
       "    .dataframe tbody tr th {\n",
       "        vertical-align: top;\n",
       "    }\n",
       "\n",
       "    .dataframe thead th {\n",
       "        text-align: right;\n",
       "    }\n",
       "</style>\n",
       "<table border=\"1\" class=\"dataframe\">\n",
       "  <thead>\n",
       "    <tr style=\"text-align: right;\">\n",
       "      <th></th>\n",
       "      <th>PC1</th>\n",
       "      <th>PC2</th>\n",
       "      <th>PC3</th>\n",
       "    </tr>\n",
       "  </thead>\n",
       "  <tbody>\n",
       "    <tr>\n",
       "      <th>0</th>\n",
       "      <td>-2.759700</td>\n",
       "      <td>1.342397</td>\n",
       "      <td>-0.480798</td>\n",
       "    </tr>\n",
       "    <tr>\n",
       "      <th>1</th>\n",
       "      <td>-0.034525</td>\n",
       "      <td>-1.573664</td>\n",
       "      <td>-0.053888</td>\n",
       "    </tr>\n",
       "    <tr>\n",
       "      <th>2</th>\n",
       "      <td>-0.430984</td>\n",
       "      <td>-0.834380</td>\n",
       "      <td>0.964532</td>\n",
       "    </tr>\n",
       "    <tr>\n",
       "      <th>3</th>\n",
       "      <td>-2.680948</td>\n",
       "      <td>2.106209</td>\n",
       "      <td>0.690726</td>\n",
       "    </tr>\n",
       "    <tr>\n",
       "      <th>4</th>\n",
       "      <td>1.081375</td>\n",
       "      <td>-0.863563</td>\n",
       "      <td>-0.262132</td>\n",
       "    </tr>\n",
       "  </tbody>\n",
       "</table>\n",
       "</div>"
      ],
      "text/plain": [
       "        PC1       PC2       PC3\n",
       "0 -2.759700  1.342397 -0.480798\n",
       "1 -0.034525 -1.573664 -0.053888\n",
       "2 -0.430984 -0.834380  0.964532\n",
       "3 -2.680948  2.106209  0.690726\n",
       "4  1.081375 -0.863563 -0.262132"
      ]
     },
     "execution_count": 57,
     "metadata": {},
     "output_type": "execute_result"
    }
   ],
   "source": [
    "# Making a new dataframe containing only the Principal Components:\n",
    "Prin_Comp_df = countries_pca[['PC1', 'PC2', 'PC3']]\n",
    "Prin_Comp_df.head()"
   ]
  },
  {
   "cell_type": "code",
   "execution_count": 58,
   "metadata": {},
   "outputs": [],
   "source": [
    "# Choosing the optimal number of clusters using Elbow-Curve:\n",
    "range_cluster = [2, 3, 4, 5, 6, 7, 8, 9]\n",
    "\n",
    "ssd = []\n",
    "\n",
    "# Running a loop so that we can form clusters with different values of n_clusters:\n",
    "for i in range_cluster:\n",
    "    kmeans = KMeans(n_clusters=i, max_iter=50)\n",
    "    kmeans.fit(Prin_Comp_df)\n",
    "    \n",
    "    # Inertia gives the squared sum of distances of all points in the dataset to its nearest cluster.\n",
    "    # It is a single number.\n",
    "    ssd.append(kmeans.inertia_)"
   ]
  },
  {
   "cell_type": "code",
   "execution_count": 59,
   "metadata": {},
   "outputs": [
    {
     "data": {
      "text/html": [
       "<div>\n",
       "<style scoped>\n",
       "    .dataframe tbody tr th:only-of-type {\n",
       "        vertical-align: middle;\n",
       "    }\n",
       "\n",
       "    .dataframe tbody tr th {\n",
       "        vertical-align: top;\n",
       "    }\n",
       "\n",
       "    .dataframe thead th {\n",
       "        text-align: right;\n",
       "    }\n",
       "</style>\n",
       "<table border=\"1\" class=\"dataframe\">\n",
       "  <thead>\n",
       "    <tr style=\"text-align: right;\">\n",
       "      <th></th>\n",
       "      <th>Number of clusters</th>\n",
       "      <th>SSD</th>\n",
       "    </tr>\n",
       "  </thead>\n",
       "  <tbody>\n",
       "    <tr>\n",
       "      <th>0</th>\n",
       "      <td>2</td>\n",
       "      <td>658.357225</td>\n",
       "    </tr>\n",
       "    <tr>\n",
       "      <th>1</th>\n",
       "      <td>3</td>\n",
       "      <td>382.508840</td>\n",
       "    </tr>\n",
       "    <tr>\n",
       "      <th>2</th>\n",
       "      <td>4</td>\n",
       "      <td>293.945381</td>\n",
       "    </tr>\n",
       "    <tr>\n",
       "      <th>3</th>\n",
       "      <td>5</td>\n",
       "      <td>219.886548</td>\n",
       "    </tr>\n",
       "    <tr>\n",
       "      <th>4</th>\n",
       "      <td>6</td>\n",
       "      <td>175.743689</td>\n",
       "    </tr>\n",
       "    <tr>\n",
       "      <th>5</th>\n",
       "      <td>7</td>\n",
       "      <td>151.958911</td>\n",
       "    </tr>\n",
       "    <tr>\n",
       "      <th>6</th>\n",
       "      <td>8</td>\n",
       "      <td>126.636015</td>\n",
       "    </tr>\n",
       "    <tr>\n",
       "      <th>7</th>\n",
       "      <td>9</td>\n",
       "      <td>108.321336</td>\n",
       "    </tr>\n",
       "  </tbody>\n",
       "</table>\n",
       "</div>"
      ],
      "text/plain": [
       "   Number of clusters         SSD\n",
       "0                   2  658.357225\n",
       "1                   3  382.508840\n",
       "2                   4  293.945381\n",
       "3                   5  219.886548\n",
       "4                   6  175.743689\n",
       "5                   7  151.958911\n",
       "6                   8  126.636015\n",
       "7                   9  108.321336"
      ]
     },
     "execution_count": 59,
     "metadata": {},
     "output_type": "execute_result"
    }
   ],
   "source": [
    "elbow_df = pd.DataFrame({'Number of clusters' : range_cluster, \n",
    "                        'SSD' : ssd})\n",
    "elbow_df"
   ]
  },
  {
   "cell_type": "code",
   "execution_count": 60,
   "metadata": {},
   "outputs": [
    {
     "data": {
      "text/plain": [
       "Text(0,0.5,'Squared Sum of Distance')"
      ]
     },
     "execution_count": 60,
     "metadata": {},
     "output_type": "execute_result"
    },
    {
     "data": {
      "image/png": "[encoded data removed]",
      "text/plain": [
       "<Figure size 432x288 with 1 Axes>"
      ]
     },
     "metadata": {
      "needs_background": "light"
     },
     "output_type": "display_data"
    }
   ],
   "source": [
    "plt.plot('Number of clusters', 'SSD', data = elbow_df)\n",
    "plt.xlabel('Number of Clusters')\n",
    "plt.ylabel('Squared Sum of Distance')"
   ]
  },
  {
   "cell_type": "markdown",
   "metadata": {},
   "source": [
    "We can see that for 3 and 5 clusters the drop in SSD is significant and therefore they might be good choices.<br>\n",
    "However, we should also look at the Silhouette score of these clusters."
   ]
  },
  {
   "cell_type": "code",
   "execution_count": 61,
   "metadata": {},
   "outputs": [],
   "source": [
    "from sklearn.metrics import silhouette_score"
   ]
  },
  {
   "cell_type": "code",
   "execution_count": 62,
   "metadata": {},
   "outputs": [
    {
     "name": "stdout",
     "output_type": "stream",
     "text": [
      "For n_clusters=2, the silhouette score is 0.5302765196545758\n",
      "For n_clusters=3, the silhouette score is 0.4855275319627071\n",
      "For n_clusters=4, the silhouette score is 0.4588683041367635\n",
      "For n_clusters=5, the silhouette score is 0.4664477080817533\n",
      "For n_clusters=6, the silhouette score is 0.40038415919380554\n",
      "For n_clusters=7, the silhouette score is 0.4135400104800131\n",
      "For n_clusters=8, the silhouette score is 0.3879543166619689\n",
      "For n_clusters=9, the silhouette score is 0.35844593001946834\n"
     ]
    }
   ],
   "source": [
    "# defining the range of clusters:\n",
    "range_n_clusters = [2,3,4,5, 6, 7, 8, 9]\n",
    "\n",
    "for i in range_n_clusters:\n",
    "    kmeans = KMeans(n_clusters=i, max_iter=50)\n",
    "    kmeans.fit(Prin_Comp_df)\n",
    "    # cluster labels:\n",
    "    cluster_labels = kmeans.labels_\n",
    "    # silhouette score:\n",
    "    silhouette = silhouette_score(Prin_Comp_df, cluster_labels)\n",
    "    print('For n_clusters={0}, the silhouette score is {1}'.format(i, silhouette))"
   ]
  },
  {
   "cell_type": "markdown",
   "metadata": {},
   "source": [
    "We can see that the Silhoutte score is the highest for 2 clusters.<br>\n",
    "Combining our knowledge from the Elbow-curve analysis, we can say that 3 clusters would be the best choice in this scenario.<br>\n",
    "Let us go with 3 clusters for now."
   ]
  },
  {
   "cell_type": "code",
   "execution_count": 63,
   "metadata": {},
   "outputs": [
    {
     "data": {
      "text/plain": [
       "KMeans(algorithm='auto', copy_x=True, init='k-means++', max_iter=50,\n",
       "    n_clusters=3, n_init=10, n_jobs=1, precompute_distances='auto',\n",
       "    random_state=42, tol=0.0001, verbose=0)"
      ]
     },
     "execution_count": 63,
     "metadata": {},
     "output_type": "execute_result"
    }
   ],
   "source": [
    "# Final model with 3 clusters:\n",
    "kmeans = KMeans(n_clusters=3, max_iter=50, random_state=42)\n",
    "kmeans.fit(Prin_Comp_df)"
   ]
  },
  {
   "cell_type": "code",
   "execution_count": 64,
   "metadata": {},
   "outputs": [
    {
     "data": {
      "text/plain": [
       "array([2, 0, 0, 2, 0, 0, 0, 1, 1, 0, 1, 1, 0, 0, 0, 1, 0, 2, 0, 0, 0, 0,\n",
       "       0, 0, 2, 2, 0, 2, 1, 0, 2, 2, 0, 0, 0, 2, 2, 2, 0, 2, 0, 1, 1, 1,\n",
       "       0, 0, 0, 0, 2, 2, 0, 0, 1, 1, 2, 2, 0, 1, 2, 1, 0, 0, 2, 2, 0, 2,\n",
       "       0, 1, 0, 0, 0, 0, 1, 1, 1, 0, 1, 0, 0, 2, 2, 0, 2, 0, 0, 2, 2, 0,\n",
       "       0, 0, 2, 2, 0, 0, 2, 1, 2, 0, 0, 0, 0, 0, 0, 2, 0, 2, 0, 1, 1, 2,\n",
       "       2, 1, 2, 0, 0, 0, 0, 0, 1, 0, 0, 2, 0, 0, 2, 0, 0, 2, 1, 1, 2, 2,\n",
       "       1, 1, 0, 0, 2, 0, 1, 0, 2, 0, 2, 2, 0, 0, 0, 0, 2, 0, 1, 0, 0, 0,\n",
       "       0, 0, 2, 2], dtype=int32)"
      ]
     },
     "execution_count": 64,
     "metadata": {},
     "output_type": "execute_result"
    }
   ],
   "source": [
    "# Taking a look at the lables:\n",
    "kmeans.labels_"
   ]
  },
  {
   "cell_type": "code",
   "execution_count": 65,
   "metadata": {},
   "outputs": [
    {
     "data": {
      "text/html": [
       "<div>\n",
       "<style scoped>\n",
       "    .dataframe tbody tr th:only-of-type {\n",
       "        vertical-align: middle;\n",
       "    }\n",
       "\n",
       "    .dataframe tbody tr th {\n",
       "        vertical-align: top;\n",
       "    }\n",
       "\n",
       "    .dataframe thead th {\n",
       "        text-align: right;\n",
       "    }\n",
       "</style>\n",
       "<table border=\"1\" class=\"dataframe\">\n",
       "  <thead>\n",
       "    <tr style=\"text-align: right;\">\n",
       "      <th></th>\n",
       "      <th>country</th>\n",
       "      <th>PC1</th>\n",
       "      <th>PC2</th>\n",
       "      <th>PC3</th>\n",
       "      <th>Cluster_ID</th>\n",
       "    </tr>\n",
       "  </thead>\n",
       "  <tbody>\n",
       "    <tr>\n",
       "      <th>0</th>\n",
       "      <td>Afghanistan</td>\n",
       "      <td>-2.759700</td>\n",
       "      <td>1.342397</td>\n",
       "      <td>-0.480798</td>\n",
       "      <td>2</td>\n",
       "    </tr>\n",
       "    <tr>\n",
       "      <th>1</th>\n",
       "      <td>Albania</td>\n",
       "      <td>-0.034525</td>\n",
       "      <td>-1.573664</td>\n",
       "      <td>-0.053888</td>\n",
       "      <td>0</td>\n",
       "    </tr>\n",
       "    <tr>\n",
       "      <th>2</th>\n",
       "      <td>Algeria</td>\n",
       "      <td>-0.430984</td>\n",
       "      <td>-0.834380</td>\n",
       "      <td>0.964532</td>\n",
       "      <td>0</td>\n",
       "    </tr>\n",
       "    <tr>\n",
       "      <th>3</th>\n",
       "      <td>Angola</td>\n",
       "      <td>-2.680948</td>\n",
       "      <td>2.106209</td>\n",
       "      <td>0.690726</td>\n",
       "      <td>2</td>\n",
       "    </tr>\n",
       "    <tr>\n",
       "      <th>4</th>\n",
       "      <td>Antigua and Barbuda</td>\n",
       "      <td>1.081375</td>\n",
       "      <td>-0.863563</td>\n",
       "      <td>-0.262132</td>\n",
       "      <td>0</td>\n",
       "    </tr>\n",
       "  </tbody>\n",
       "</table>\n",
       "</div>"
      ],
      "text/plain": [
       "               country       PC1       PC2       PC3  Cluster_ID\n",
       "0          Afghanistan -2.759700  1.342397 -0.480798           2\n",
       "1              Albania -0.034525 -1.573664 -0.053888           0\n",
       "2              Algeria -0.430984 -0.834380  0.964532           0\n",
       "3               Angola -2.680948  2.106209  0.690726           2\n",
       "4  Antigua and Barbuda  1.081375 -0.863563 -0.262132           0"
      ]
     },
     "execution_count": 65,
     "metadata": {},
     "output_type": "execute_result"
    }
   ],
   "source": [
    "# Assigning the Cluster labels to the countries dataframe:\n",
    "countries_pca['Cluster_ID'] = kmeans.labels_\n",
    "countries_pca.head()"
   ]
  },
  {
   "cell_type": "code",
   "execution_count": 66,
   "metadata": {},
   "outputs": [
    {
     "data": {
      "text/plain": [
       "0    83\n",
       "2    46\n",
       "1    29\n",
       "Name: Cluster_ID, dtype: int64"
      ]
     },
     "execution_count": 66,
     "metadata": {},
     "output_type": "execute_result"
    }
   ],
   "source": [
    "# Taking a look at the ditribution of the clusters:\n",
    "countries_pca['Cluster_ID'].value_counts()"
   ]
  },
  {
   "cell_type": "code",
   "execution_count": 67,
   "metadata": {},
   "outputs": [
    {
     "data": {
      "text/plain": [
       "<matplotlib.axes._subplots.AxesSubplot at 0x7f17b0064588>"
      ]
     },
     "execution_count": 67,
     "metadata": {},
     "output_type": "execute_result"
    },
    {
     "data": {
      "image/png": "[encoded data removed]",
      "text/plain": [
       "<Figure size 864x1152 with 3 Axes>"
      ]
     },
     "metadata": {
      "needs_background": "light"
     },
     "output_type": "display_data"
    }
   ],
   "source": [
    "# Visualizing the clusters:\n",
    "plt.figure(figsize = (12, 16))\n",
    "plt.subplot(321)\n",
    "sns.boxplot('Cluster_ID', 'PC1', data = countries_pca)\n",
    "plt.subplot(322)\n",
    "sns.boxplot('Cluster_ID', 'PC2', data = countries_pca)\n",
    "plt.subplot(323)\n",
    "sns.boxplot('Cluster_ID', 'PC3', data = countries_pca)"
   ]
  },
  {
   "cell_type": "markdown",
   "metadata": {},
   "source": [
    "We can see that there is a clear difference between the 3 clusters for the principal components."
   ]
  },
  {
   "cell_type": "markdown",
   "metadata": {},
   "source": [
    "Let us proceed with Heirarchichal Clustering\n",
    "## Heirarchical Clustering:"
   ]
  },
  {
   "cell_type": "code",
   "execution_count": 68,
   "metadata": {},
   "outputs": [],
   "source": [
    "from scipy.cluster.hierarchy import linkage\n",
    "from scipy.cluster.hierarchy import dendrogram\n",
    "from scipy.cluster.hierarchy import cut_tree"
   ]
  },
  {
   "cell_type": "code",
   "execution_count": 69,
   "metadata": {},
   "outputs": [
    {
     "data": {
      "image/png": "[encoded data removed]",
      "text/plain": [
       "<Figure size 720x720 with 1 Axes>"
      ]
     },
     "metadata": {
      "needs_background": "light"
     },
     "output_type": "display_data"
    }
   ],
   "source": [
    "# Single Linkage Clustering:\n",
    "plt.figure(figsize = (10,10))\n",
    "mergings_single = linkage(Prin_Comp_df, method = 'single', metric = 'euclidean')\n",
    "dendrogram(mergings_single)\n",
    "plt.show()"
   ]
  },
  {
   "cell_type": "code",
   "execution_count": 70,
   "metadata": {},
   "outputs": [
    {
     "data": {
      "image/png": "[encoded data removed]",
      "text/plain": [
       "<Figure size 720x720 with 1 Axes>"
      ]
     },
     "metadata": {
      "needs_background": "light"
     },
     "output_type": "display_data"
    }
   ],
   "source": [
    "# Complete Linkage Clustering:\n",
    "plt.figure(figsize = (10,10))\n",
    "mergings_complete = linkage(Prin_Comp_df, method = 'complete', metric = 'euclidean')\n",
    "dendrogram(mergings_complete)\n",
    "plt.show()"
   ]
  },
  {
   "cell_type": "code",
   "execution_count": 71,
   "metadata": {},
   "outputs": [
    {
     "data": {
      "image/png": "[encoded data removed]",
      "text/plain": [
       "<Figure size 720x720 with 1 Axes>"
      ]
     },
     "metadata": {
      "needs_background": "light"
     },
     "output_type": "display_data"
    }
   ],
   "source": [
    "# Average Linkage Clustering:\n",
    "plt.figure(figsize = (10,10))\n",
    "mergings_average = linkage(Prin_Comp_df, method = 'average', metric = 'euclidean')\n",
    "dendrogram(mergings_average)\n",
    "plt.show()"
   ]
  },
  {
   "cell_type": "markdown",
   "metadata": {},
   "source": [
    "Going with our previous analysis, we'll cut the dendrogram at 3 clusters."
   ]
  },
  {
   "cell_type": "code",
   "execution_count": 72,
   "metadata": {},
   "outputs": [
    {
     "data": {
      "text/plain": [
       "(158,)"
      ]
     },
     "execution_count": 72,
     "metadata": {},
     "output_type": "execute_result"
    }
   ],
   "source": [
    "# Getting the Cluster ID using the complete linkage since it seems clear:\n",
    "hier_cluster_ID = cut_tree(mergings_complete, n_clusters=3).reshape(-1, )\n",
    "hier_cluster_ID.shape"
   ]
  },
  {
   "cell_type": "code",
   "execution_count": 73,
   "metadata": {},
   "outputs": [
    {
     "data": {
      "text/html": [
       "<div>\n",
       "<style scoped>\n",
       "    .dataframe tbody tr th:only-of-type {\n",
       "        vertical-align: middle;\n",
       "    }\n",
       "\n",
       "    .dataframe tbody tr th {\n",
       "        vertical-align: top;\n",
       "    }\n",
       "\n",
       "    .dataframe thead th {\n",
       "        text-align: right;\n",
       "    }\n",
       "</style>\n",
       "<table border=\"1\" class=\"dataframe\">\n",
       "  <thead>\n",
       "    <tr style=\"text-align: right;\">\n",
       "      <th></th>\n",
       "      <th>country</th>\n",
       "      <th>PC1</th>\n",
       "      <th>PC2</th>\n",
       "      <th>PC3</th>\n",
       "      <th>Cluster_ID</th>\n",
       "      <th>Hier_Cluster_ID_complete</th>\n",
       "    </tr>\n",
       "  </thead>\n",
       "  <tbody>\n",
       "    <tr>\n",
       "      <th>0</th>\n",
       "      <td>Afghanistan</td>\n",
       "      <td>-2.759700</td>\n",
       "      <td>1.342397</td>\n",
       "      <td>-0.480798</td>\n",
       "      <td>2</td>\n",
       "      <td>0</td>\n",
       "    </tr>\n",
       "    <tr>\n",
       "      <th>1</th>\n",
       "      <td>Albania</td>\n",
       "      <td>-0.034525</td>\n",
       "      <td>-1.573664</td>\n",
       "      <td>-0.053888</td>\n",
       "      <td>0</td>\n",
       "      <td>0</td>\n",
       "    </tr>\n",
       "    <tr>\n",
       "      <th>2</th>\n",
       "      <td>Algeria</td>\n",
       "      <td>-0.430984</td>\n",
       "      <td>-0.834380</td>\n",
       "      <td>0.964532</td>\n",
       "      <td>0</td>\n",
       "      <td>0</td>\n",
       "    </tr>\n",
       "    <tr>\n",
       "      <th>3</th>\n",
       "      <td>Angola</td>\n",
       "      <td>-2.680948</td>\n",
       "      <td>2.106209</td>\n",
       "      <td>0.690726</td>\n",
       "      <td>2</td>\n",
       "      <td>0</td>\n",
       "    </tr>\n",
       "    <tr>\n",
       "      <th>4</th>\n",
       "      <td>Antigua and Barbuda</td>\n",
       "      <td>1.081375</td>\n",
       "      <td>-0.863563</td>\n",
       "      <td>-0.262132</td>\n",
       "      <td>0</td>\n",
       "      <td>0</td>\n",
       "    </tr>\n",
       "  </tbody>\n",
       "</table>\n",
       "</div>"
      ],
      "text/plain": [
       "               country       PC1       PC2       PC3  Cluster_ID  \\\n",
       "0          Afghanistan -2.759700  1.342397 -0.480798           2   \n",
       "1              Albania -0.034525 -1.573664 -0.053888           0   \n",
       "2              Algeria -0.430984 -0.834380  0.964532           0   \n",
       "3               Angola -2.680948  2.106209  0.690726           2   \n",
       "4  Antigua and Barbuda  1.081375 -0.863563 -0.262132           0   \n",
       "\n",
       "   Hier_Cluster_ID_complete  \n",
       "0                         0  \n",
       "1                         0  \n",
       "2                         0  \n",
       "3                         0  \n",
       "4                         0  "
      ]
     },
     "execution_count": 73,
     "metadata": {},
     "output_type": "execute_result"
    }
   ],
   "source": [
    "# Assigning the Cluster_ID to the dataframe:\n",
    "countries_pca['Hier_Cluster_ID_complete'] = hier_cluster_ID\n",
    "countries_pca.head()"
   ]
  },
  {
   "cell_type": "code",
   "execution_count": 74,
   "metadata": {},
   "outputs": [
    {
     "data": {
      "text/plain": [
       "0    151\n",
       "1      6\n",
       "2      1\n",
       "Name: Hier_Cluster_ID_complete, dtype: int64"
      ]
     },
     "execution_count": 74,
     "metadata": {},
     "output_type": "execute_result"
    }
   ],
   "source": [
    "# Looking at the distribution of the Heir_cluster_ID\n",
    "countries_pca['Hier_Cluster_ID_complete'].value_counts()"
   ]
  },
  {
   "cell_type": "markdown",
   "metadata": {},
   "source": [
    "We can see that the Heirarchical clustering fails to deliver the results since most of the countries are being grouped into 1 cluster.<br>\n",
    "To get a more balanced distribution, we need to increase the number of clusters and that does not seem like a good idea in this use case since having more than 3 categories of countries would over complicate things.<br>\n",
    "Therefore let us go with the results we got from K-Means Clustering."
   ]
  },
  {
   "cell_type": "code",
   "execution_count": 75,
   "metadata": {},
   "outputs": [
    {
     "data": {
      "text/html": [
       "<div>\n",
       "<style scoped>\n",
       "    .dataframe tbody tr th:only-of-type {\n",
       "        vertical-align: middle;\n",
       "    }\n",
       "\n",
       "    .dataframe tbody tr th {\n",
       "        vertical-align: top;\n",
       "    }\n",
       "\n",
       "    .dataframe thead th {\n",
       "        text-align: right;\n",
       "    }\n",
       "</style>\n",
       "<table border=\"1\" class=\"dataframe\">\n",
       "  <thead>\n",
       "    <tr style=\"text-align: right;\">\n",
       "      <th></th>\n",
       "      <th>country</th>\n",
       "      <th>PC1</th>\n",
       "      <th>PC2</th>\n",
       "      <th>PC3</th>\n",
       "      <th>Cluster_ID</th>\n",
       "    </tr>\n",
       "  </thead>\n",
       "  <tbody>\n",
       "    <tr>\n",
       "      <th>0</th>\n",
       "      <td>Afghanistan</td>\n",
       "      <td>-2.759700</td>\n",
       "      <td>1.342397</td>\n",
       "      <td>-0.480798</td>\n",
       "      <td>2</td>\n",
       "    </tr>\n",
       "    <tr>\n",
       "      <th>1</th>\n",
       "      <td>Albania</td>\n",
       "      <td>-0.034525</td>\n",
       "      <td>-1.573664</td>\n",
       "      <td>-0.053888</td>\n",
       "      <td>0</td>\n",
       "    </tr>\n",
       "    <tr>\n",
       "      <th>2</th>\n",
       "      <td>Algeria</td>\n",
       "      <td>-0.430984</td>\n",
       "      <td>-0.834380</td>\n",
       "      <td>0.964532</td>\n",
       "      <td>0</td>\n",
       "    </tr>\n",
       "    <tr>\n",
       "      <th>3</th>\n",
       "      <td>Angola</td>\n",
       "      <td>-2.680948</td>\n",
       "      <td>2.106209</td>\n",
       "      <td>0.690726</td>\n",
       "      <td>2</td>\n",
       "    </tr>\n",
       "    <tr>\n",
       "      <th>4</th>\n",
       "      <td>Antigua and Barbuda</td>\n",
       "      <td>1.081375</td>\n",
       "      <td>-0.863563</td>\n",
       "      <td>-0.262132</td>\n",
       "      <td>0</td>\n",
       "    </tr>\n",
       "  </tbody>\n",
       "</table>\n",
       "</div>"
      ],
      "text/plain": [
       "               country       PC1       PC2       PC3  Cluster_ID\n",
       "0          Afghanistan -2.759700  1.342397 -0.480798           2\n",
       "1              Albania -0.034525 -1.573664 -0.053888           0\n",
       "2              Algeria -0.430984 -0.834380  0.964532           0\n",
       "3               Angola -2.680948  2.106209  0.690726           2\n",
       "4  Antigua and Barbuda  1.081375 -0.863563 -0.262132           0"
      ]
     },
     "execution_count": 75,
     "metadata": {},
     "output_type": "execute_result"
    }
   ],
   "source": [
    "# Dropping the Heir_Cluster_ID column:\n",
    "countries_pca.drop('Hier_Cluster_ID_complete', axis = 'columns', inplace = True)\n",
    "countries_pca.head()"
   ]
  },
  {
   "cell_type": "markdown",
   "metadata": {},
   "source": [
    "Let us now merge the initial dataframe containing all the columns with the one above."
   ]
  },
  {
   "cell_type": "code",
   "execution_count": 76,
   "metadata": {
    "scrolled": true
   },
   "outputs": [
    {
     "data": {
      "text/html": [
       "<div>\n",
       "<style scoped>\n",
       "    .dataframe tbody tr th:only-of-type {\n",
       "        vertical-align: middle;\n",
       "    }\n",
       "\n",
       "    .dataframe tbody tr th {\n",
       "        vertical-align: top;\n",
       "    }\n",
       "\n",
       "    .dataframe thead th {\n",
       "        text-align: right;\n",
       "    }\n",
       "</style>\n",
       "<table border=\"1\" class=\"dataframe\">\n",
       "  <thead>\n",
       "    <tr style=\"text-align: right;\">\n",
       "      <th></th>\n",
       "      <th>country</th>\n",
       "      <th>child_mort</th>\n",
       "      <th>exports</th>\n",
       "      <th>health</th>\n",
       "      <th>imports</th>\n",
       "      <th>income</th>\n",
       "      <th>inflation</th>\n",
       "      <th>life_expec</th>\n",
       "      <th>total_fer</th>\n",
       "      <th>gdpp</th>\n",
       "      <th>PC1</th>\n",
       "      <th>PC2</th>\n",
       "      <th>PC3</th>\n",
       "      <th>Cluster_ID</th>\n",
       "    </tr>\n",
       "  </thead>\n",
       "  <tbody>\n",
       "    <tr>\n",
       "      <th>0</th>\n",
       "      <td>Afghanistan</td>\n",
       "      <td>1.234828</td>\n",
       "      <td>-0.611900</td>\n",
       "      <td>-0.582050</td>\n",
       "      <td>-0.634603</td>\n",
       "      <td>-0.952872</td>\n",
       "      <td>0.147445</td>\n",
       "      <td>-1.568376</td>\n",
       "      <td>1.841418</td>\n",
       "      <td>-0.712215</td>\n",
       "      <td>-2.759700</td>\n",
       "      <td>1.342397</td>\n",
       "      <td>-0.480798</td>\n",
       "      <td>2</td>\n",
       "    </tr>\n",
       "    <tr>\n",
       "      <th>1</th>\n",
       "      <td>Albania</td>\n",
       "      <td>-0.578249</td>\n",
       "      <td>-0.470365</td>\n",
       "      <td>-0.421837</td>\n",
       "      <td>-0.384672</td>\n",
       "      <td>-0.306993</td>\n",
       "      <td>-0.313093</td>\n",
       "      <td>0.710146</td>\n",
       "      <td>-0.894671</td>\n",
       "      <td>-0.453112</td>\n",
       "      <td>-0.034525</td>\n",
       "      <td>-1.573664</td>\n",
       "      <td>-0.053888</td>\n",
       "      <td>0</td>\n",
       "    </tr>\n",
       "    <tr>\n",
       "      <th>2</th>\n",
       "      <td>Algeria</td>\n",
       "      <td>-0.314663</td>\n",
       "      <td>-0.396676</td>\n",
       "      <td>-0.479912</td>\n",
       "      <td>-0.469058</td>\n",
       "      <td>-0.076432</td>\n",
       "      <td>0.767077</td>\n",
       "      <td>0.732818</td>\n",
       "      <td>-0.081062</td>\n",
       "      <td>-0.426007</td>\n",
       "      <td>-0.430984</td>\n",
       "      <td>-0.834380</td>\n",
       "      <td>0.964532</td>\n",
       "      <td>0</td>\n",
       "    </tr>\n",
       "    <tr>\n",
       "      <th>3</th>\n",
       "      <td>Angola</td>\n",
       "      <td>1.944292</td>\n",
       "      <td>-0.333493</td>\n",
       "      <td>-0.540442</td>\n",
       "      <td>-0.452688</td>\n",
       "      <td>-0.619840</td>\n",
       "      <td>1.353217</td>\n",
       "      <td>-1.126275</td>\n",
       "      <td>2.064504</td>\n",
       "      <td>-0.494135</td>\n",
       "      <td>-2.680948</td>\n",
       "      <td>2.106209</td>\n",
       "      <td>0.690726</td>\n",
       "      <td>2</td>\n",
       "    </tr>\n",
       "    <tr>\n",
       "      <th>4</th>\n",
       "      <td>Antigua and Barbuda</td>\n",
       "      <td>-0.733444</td>\n",
       "      <td>0.101777</td>\n",
       "      <td>-0.090201</td>\n",
       "      <td>0.362210</td>\n",
       "      <td>0.404872</td>\n",
       "      <td>-0.596859</td>\n",
       "      <td>0.766825</td>\n",
       "      <td>-0.579726</td>\n",
       "      <td>0.140986</td>\n",
       "      <td>1.081375</td>\n",
       "      <td>-0.863563</td>\n",
       "      <td>-0.262132</td>\n",
       "      <td>0</td>\n",
       "    </tr>\n",
       "  </tbody>\n",
       "</table>\n",
       "</div>"
      ],
      "text/plain": [
       "               country  child_mort   exports    health   imports    income  \\\n",
       "0          Afghanistan    1.234828 -0.611900 -0.582050 -0.634603 -0.952872   \n",
       "1              Albania   -0.578249 -0.470365 -0.421837 -0.384672 -0.306993   \n",
       "2              Algeria   -0.314663 -0.396676 -0.479912 -0.469058 -0.076432   \n",
       "3               Angola    1.944292 -0.333493 -0.540442 -0.452688 -0.619840   \n",
       "4  Antigua and Barbuda   -0.733444  0.101777 -0.090201  0.362210  0.404872   \n",
       "\n",
       "   inflation  life_expec  total_fer      gdpp       PC1       PC2       PC3  \\\n",
       "0   0.147445   -1.568376   1.841418 -0.712215 -2.759700  1.342397 -0.480798   \n",
       "1  -0.313093    0.710146  -0.894671 -0.453112 -0.034525 -1.573664 -0.053888   \n",
       "2   0.767077    0.732818  -0.081062 -0.426007 -0.430984 -0.834380  0.964532   \n",
       "3   1.353217   -1.126275   2.064504 -0.494135 -2.680948  2.106209  0.690726   \n",
       "4  -0.596859    0.766825  -0.579726  0.140986  1.081375 -0.863563 -0.262132   \n",
       "\n",
       "   Cluster_ID  \n",
       "0           2  \n",
       "1           0  \n",
       "2           0  \n",
       "3           2  \n",
       "4           0  "
      ]
     },
     "execution_count": 76,
     "metadata": {},
     "output_type": "execute_result"
    }
   ],
   "source": [
    "countries_final = pd.merge(countries, countries_pca, on='country', how='inner') \n",
    "countries_final.head()"
   ]
  },
  {
   "cell_type": "code",
   "execution_count": 77,
   "metadata": {},
   "outputs": [
    {
     "data": {
      "text/plain": [
       "0    83\n",
       "2    46\n",
       "1    29\n",
       "Name: Cluster_ID, dtype: int64"
      ]
     },
     "execution_count": 77,
     "metadata": {},
     "output_type": "execute_result"
    }
   ],
   "source": [
    "countries_final['Cluster_ID'].value_counts()"
   ]
  },
  {
   "cell_type": "markdown",
   "metadata": {},
   "source": [
    "### Visualizations:"
   ]
  },
  {
   "cell_type": "code",
   "execution_count": 78,
   "metadata": {},
   "outputs": [
    {
     "data": {
      "text/plain": [
       "Text(0.5,1,'GDP per Capita')"
      ]
     },
     "execution_count": 78,
     "metadata": {},
     "output_type": "execute_result"
    },
    {
     "data": {
      "image/png": "[encoded data removed]",
      "text/plain": [
       "<Figure size 864x720 with 3 Axes>"
      ]
     },
     "metadata": {
      "needs_background": "light"
     },
     "output_type": "display_data"
    }
   ],
   "source": [
    "# Original Features:\n",
    "plt.figure(figsize = (12, 10))\n",
    "plt.subplot(221)\n",
    "sns.boxplot(x='Cluster_ID', y='child_mort', data = countries_final)\n",
    "plt.title('Child Mortality Rate')\n",
    "\n",
    "plt.subplot(222)\n",
    "sns.boxplot(x='Cluster_ID', y='income', data = countries_final)\n",
    "plt.title('Net Income per person')\n",
    "\n",
    "plt.subplot(223)\n",
    "sns.boxplot(x='Cluster_ID', y='gdpp', data = countries_final)\n",
    "plt.title('GDP per Capita')"
   ]
  },
  {
   "cell_type": "markdown",
   "metadata": {},
   "source": [
    "It can be seen that the clusters are neatly differentiable based on the original features.<br>\n",
    "\n",
    "**Cluster 2** represents the under-developed countries since they have a really high child mortality rate combined with a lower net income per person and a lower GDP per capita. These are the countries that need assistance to overcome their problems since they are not self sufficient in terms of financial resources.\n",
    "\n",
    "**Cluster 1** represents the developed countries which enjoy a high income, higher GDP per capita and a really low child mortality rate.\n",
    "\n",
    "**Cluster 0** represents the developing countries since they have a medium rate of child mortality, also their net income per person is significantly higher than the poor countries but at the same time significantly lower than the developed countries. The GDP per capita for these coutnries also follow the same pattern, i.e higher than the underdeveloped countries and lower than the developed countries."
   ]
  },
  {
   "cell_type": "markdown",
   "metadata": {},
   "source": [
    "**Let us now visulaize the Principal components to see the clusters formed**"
   ]
  },
  {
   "cell_type": "code",
   "execution_count": 79,
   "metadata": {},
   "outputs": [
    {
     "data": {
      "image/png": "[encoded data removed]",
      "text/plain": [
       "<Figure size 576x432 with 1 Axes>"
      ]
     },
     "metadata": {
      "needs_background": "light"
     },
     "output_type": "display_data"
    }
   ],
   "source": [
    "# PC1 and PC2:\n",
    "%matplotlib inline\n",
    "fig = plt.figure(figsize = (8,6))\n",
    "plt.scatter(countries_final.PC1, countries_final.PC2)\n",
    "plt.xlabel('Principal Component 1')\n",
    "plt.ylabel('Principal Component 2')\n",
    "'''\n",
    "for i, txt in enumerate(countries_final['country']):\n",
    "    plt.annotate(txt, (countries_final.PC1[i],countries_final.PC2[i]))\n",
    "'''\n",
    "plt.tight_layout()\n",
    "plt.show()"
   ]
  },
  {
   "cell_type": "markdown",
   "metadata": {},
   "source": [
    "**Visualizing the original features to see the clusters.**"
   ]
  },
  {
   "cell_type": "code",
   "execution_count": 80,
   "metadata": {},
   "outputs": [
    {
     "data": {
      "image/png": "[encoded data removed]",
      "text/plain": [
       "<Figure size 576x432 with 1 Axes>"
      ]
     },
     "metadata": {
      "needs_background": "light"
     },
     "output_type": "display_data"
    }
   ],
   "source": [
    "# Child mortality Vs GDPP:\n",
    "%matplotlib inline\n",
    "fig = plt.figure(figsize = (8,6))\n",
    "plt.scatter(countries_final['child_mort'], countries_final['gdpp'])\n",
    "plt.xlabel('Child_Mort')\n",
    "plt.ylabel('GDPP')\n",
    "'''\n",
    "for i, txt in enumerate(countries_final['country']):\n",
    "    plt.annotate(txt, (countries_final.PC1[i],countries_final.PC2[i]))\n",
    "'''\n",
    "plt.tight_layout()\n",
    "plt.show()"
   ]
  },
  {
   "cell_type": "code",
   "execution_count": 81,
   "metadata": {},
   "outputs": [
    {
     "data": {
      "image/png": "[encoded data removed]",
      "text/plain": [
       "<Figure size 576x432 with 1 Axes>"
      ]
     },
     "metadata": {
      "needs_background": "light"
     },
     "output_type": "display_data"
    }
   ],
   "source": [
    "# Child mortality Vs Income:\n",
    "%matplotlib inline\n",
    "fig = plt.figure(figsize = (8,6))\n",
    "plt.scatter(countries_final['child_mort'], countries_final['income'])\n",
    "plt.xlabel('Child_Mort')\n",
    "plt.ylabel('Income')\n",
    "'''\n",
    "for i, txt in enumerate(countries_final['country']):\n",
    "    plt.annotate(txt, (countries_final.PC1[i],countries_final.PC2[i]))\n",
    "'''\n",
    "plt.tight_layout()\n",
    "plt.show()"
   ]
  },
  {
   "cell_type": "markdown",
   "metadata": {},
   "source": [
    "We can see that the clusters are clearly outlined."
   ]
  },
  {
   "cell_type": "markdown",
   "metadata": {},
   "source": [
    "Let us now focus on the **under-developed** countries in Cluster 2:"
   ]
  },
  {
   "cell_type": "code",
   "execution_count": 82,
   "metadata": {},
   "outputs": [
    {
     "data": {
      "text/plain": [
       "(46, 14)"
      ]
     },
     "execution_count": 82,
     "metadata": {},
     "output_type": "execute_result"
    }
   ],
   "source": [
    "poor_countries = countries_final[countries_final['Cluster_ID'] == 2]\n",
    "poor_countries.shape"
   ]
  },
  {
   "cell_type": "code",
   "execution_count": 83,
   "metadata": {},
   "outputs": [
    {
     "data": {
      "text/html": [
       "<div>\n",
       "<style scoped>\n",
       "    .dataframe tbody tr th:only-of-type {\n",
       "        vertical-align: middle;\n",
       "    }\n",
       "\n",
       "    .dataframe tbody tr th {\n",
       "        vertical-align: top;\n",
       "    }\n",
       "\n",
       "    .dataframe thead th {\n",
       "        text-align: right;\n",
       "    }\n",
       "</style>\n",
       "<table border=\"1\" class=\"dataframe\">\n",
       "  <thead>\n",
       "    <tr style=\"text-align: right;\">\n",
       "      <th></th>\n",
       "      <th>country</th>\n",
       "      <th>child_mort</th>\n",
       "      <th>exports</th>\n",
       "      <th>health</th>\n",
       "      <th>imports</th>\n",
       "      <th>income</th>\n",
       "      <th>inflation</th>\n",
       "      <th>life_expec</th>\n",
       "      <th>total_fer</th>\n",
       "      <th>gdpp</th>\n",
       "      <th>PC1</th>\n",
       "      <th>PC2</th>\n",
       "      <th>PC3</th>\n",
       "      <th>Cluster_ID</th>\n",
       "    </tr>\n",
       "  </thead>\n",
       "  <tbody>\n",
       "    <tr>\n",
       "      <th>65</th>\n",
       "      <td>Haiti</td>\n",
       "      <td>4.136735</td>\n",
       "      <td>-0.605928</td>\n",
       "      <td>-0.579337</td>\n",
       "      <td>-0.608738</td>\n",
       "      <td>-0.961411</td>\n",
       "      <td>-0.223777</td>\n",
       "      <td>-4.300336</td>\n",
       "      <td>0.207638</td>\n",
       "      <td>-0.704230</td>\n",
       "      <td>-4.012789</td>\n",
       "      <td>2.967955</td>\n",
       "      <td>-1.803347</td>\n",
       "      <td>2</td>\n",
       "    </tr>\n",
       "    <tr>\n",
       "      <th>127</th>\n",
       "      <td>Sierra Leone</td>\n",
       "      <td>2.954294</td>\n",
       "      <td>-0.610377</td>\n",
       "      <td>-0.574711</td>\n",
       "      <td>-0.650501</td>\n",
       "      <td>-0.983147</td>\n",
       "      <td>0.869419</td>\n",
       "      <td>-1.704407</td>\n",
       "      <td>1.434613</td>\n",
       "      <td>-0.723496</td>\n",
       "      <td>-3.338838</td>\n",
       "      <td>2.184519</td>\n",
       "      <td>-0.053591</td>\n",
       "      <td>2</td>\n",
       "    </tr>\n",
       "    <tr>\n",
       "      <th>31</th>\n",
       "      <td>Chad</td>\n",
       "      <td>2.707952</td>\n",
       "      <td>-0.576215</td>\n",
       "      <td>-0.582960</td>\n",
       "      <td>-0.614215</td>\n",
       "      <td>-0.928030</td>\n",
       "      <td>-0.136321</td>\n",
       "      <td>-1.534368</td>\n",
       "      <td>2.346642</td>\n",
       "      <td>-0.687015</td>\n",
       "      <td>-3.267106</td>\n",
       "      <td>2.298053</td>\n",
       "      <td>-0.952378</td>\n",
       "      <td>2</td>\n",
       "    </tr>\n",
       "    <tr>\n",
       "      <th>30</th>\n",
       "      <td>Central African Republic</td>\n",
       "      <td>2.683318</td>\n",
       "      <td>-0.612247</td>\n",
       "      <td>-0.599184</td>\n",
       "      <td>-0.653298</td>\n",
       "      <td>-1.008920</td>\n",
       "      <td>-0.543828</td>\n",
       "      <td>-2.554602</td>\n",
       "      <td>1.441174</td>\n",
       "      <td>-0.720053</td>\n",
       "      <td>-3.350565</td>\n",
       "      <td>2.102076</td>\n",
       "      <td>-1.552039</td>\n",
       "      <td>2</td>\n",
       "    </tr>\n",
       "    <tr>\n",
       "      <th>94</th>\n",
       "      <td>Mali</td>\n",
       "      <td>2.387708</td>\n",
       "      <td>-0.598119</td>\n",
       "      <td>-0.586772</td>\n",
       "      <td>-0.634573</td>\n",
       "      <td>-0.932688</td>\n",
       "      <td>-0.324258</td>\n",
       "      <td>-1.194291</td>\n",
       "      <td>2.320397</td>\n",
       "      <td>-0.700860</td>\n",
       "      <td>-3.044493</td>\n",
       "      <td>1.943817</td>\n",
       "      <td>-1.011267</td>\n",
       "      <td>2</td>\n",
       "    </tr>\n",
       "    <tr>\n",
       "      <th>110</th>\n",
       "      <td>Nigeria</td>\n",
       "      <td>2.215268</td>\n",
       "      <td>-0.542530</td>\n",
       "      <td>-0.528017</td>\n",
       "      <td>-0.612027</td>\n",
       "      <td>-0.678063</td>\n",
       "      <td>8.945115</td>\n",
       "      <td>-1.080931</td>\n",
       "      <td>1.854540</td>\n",
       "      <td>-0.582041</td>\n",
       "      <td>-3.989994</td>\n",
       "      <td>3.368219</td>\n",
       "      <td>7.906776</td>\n",
       "      <td>2</td>\n",
       "    </tr>\n",
       "    <tr>\n",
       "      <th>109</th>\n",
       "      <td>Niger</td>\n",
       "      <td>2.042829</td>\n",
       "      <td>-0.609049</td>\n",
       "      <td>-0.599038</td>\n",
       "      <td>-0.645729</td>\n",
       "      <td>-1.014665</td>\n",
       "      <td>-0.493587</td>\n",
       "      <td>-1.273642</td>\n",
       "      <td>2.937165</td>\n",
       "      <td>-0.727232</td>\n",
       "      <td>-3.173869</td>\n",
       "      <td>2.048420</td>\n",
       "      <td>-1.164409</td>\n",
       "      <td>2</td>\n",
       "    </tr>\n",
       "    <tr>\n",
       "      <th>3</th>\n",
       "      <td>Angola</td>\n",
       "      <td>1.944292</td>\n",
       "      <td>-0.333493</td>\n",
       "      <td>-0.540442</td>\n",
       "      <td>-0.452688</td>\n",
       "      <td>-0.619840</td>\n",
       "      <td>1.353217</td>\n",
       "      <td>-1.126275</td>\n",
       "      <td>2.064504</td>\n",
       "      <td>-0.494135</td>\n",
       "      <td>-2.680948</td>\n",
       "      <td>2.106209</td>\n",
       "      <td>0.690726</td>\n",
       "      <td>2</td>\n",
       "    </tr>\n",
       "    <tr>\n",
       "      <th>24</th>\n",
       "      <td>Burkina Faso</td>\n",
       "      <td>1.870390</td>\n",
       "      <td>-0.604745</td>\n",
       "      <td>-0.584293</td>\n",
       "      <td>-0.645825</td>\n",
       "      <td>-0.966845</td>\n",
       "      <td>-0.097245</td>\n",
       "      <td>-1.375665</td>\n",
       "      <td>1.874224</td>\n",
       "      <td>-0.710603</td>\n",
       "      <td>-2.871575</td>\n",
       "      <td>1.560343</td>\n",
       "      <td>-0.760004</td>\n",
       "      <td>2</td>\n",
       "    </tr>\n",
       "    <tr>\n",
       "      <th>36</th>\n",
       "      <td>Congo, Dem. Rep.</td>\n",
       "      <td>1.870390</td>\n",
       "      <td>-0.601255</td>\n",
       "      <td>-0.593038</td>\n",
       "      <td>-0.646476</td>\n",
       "      <td>-1.030579</td>\n",
       "      <td>1.204356</td>\n",
       "      <td>-1.421009</td>\n",
       "      <td>2.313836</td>\n",
       "      <td>-0.728258</td>\n",
       "      <td>-3.239837</td>\n",
       "      <td>2.019485</td>\n",
       "      <td>0.452650</td>\n",
       "      <td>2</td>\n",
       "    </tr>\n",
       "  </tbody>\n",
       "</table>\n",
       "</div>"
      ],
      "text/plain": [
       "                      country  child_mort   exports    health   imports  \\\n",
       "65                      Haiti    4.136735 -0.605928 -0.579337 -0.608738   \n",
       "127              Sierra Leone    2.954294 -0.610377 -0.574711 -0.650501   \n",
       "31                       Chad    2.707952 -0.576215 -0.582960 -0.614215   \n",
       "30   Central African Republic    2.683318 -0.612247 -0.599184 -0.653298   \n",
       "94                       Mali    2.387708 -0.598119 -0.586772 -0.634573   \n",
       "110                   Nigeria    2.215268 -0.542530 -0.528017 -0.612027   \n",
       "109                     Niger    2.042829 -0.609049 -0.599038 -0.645729   \n",
       "3                      Angola    1.944292 -0.333493 -0.540442 -0.452688   \n",
       "24               Burkina Faso    1.870390 -0.604745 -0.584293 -0.645825   \n",
       "36           Congo, Dem. Rep.    1.870390 -0.601255 -0.593038 -0.646476   \n",
       "\n",
       "       income  inflation  life_expec  total_fer      gdpp       PC1       PC2  \\\n",
       "65  -0.961411  -0.223777   -4.300336   0.207638 -0.704230 -4.012789  2.967955   \n",
       "127 -0.983147   0.869419   -1.704407   1.434613 -0.723496 -3.338838  2.184519   \n",
       "31  -0.928030  -0.136321   -1.534368   2.346642 -0.687015 -3.267106  2.298053   \n",
       "30  -1.008920  -0.543828   -2.554602   1.441174 -0.720053 -3.350565  2.102076   \n",
       "94  -0.932688  -0.324258   -1.194291   2.320397 -0.700860 -3.044493  1.943817   \n",
       "110 -0.678063   8.945115   -1.080931   1.854540 -0.582041 -3.989994  3.368219   \n",
       "109 -1.014665  -0.493587   -1.273642   2.937165 -0.727232 -3.173869  2.048420   \n",
       "3   -0.619840   1.353217   -1.126275   2.064504 -0.494135 -2.680948  2.106209   \n",
       "24  -0.966845  -0.097245   -1.375665   1.874224 -0.710603 -2.871575  1.560343   \n",
       "36  -1.030579   1.204356   -1.421009   2.313836 -0.728258 -3.239837  2.019485   \n",
       "\n",
       "          PC3  Cluster_ID  \n",
       "65  -1.803347           2  \n",
       "127 -0.053591           2  \n",
       "31  -0.952378           2  \n",
       "30  -1.552039           2  \n",
       "94  -1.011267           2  \n",
       "110  7.906776           2  \n",
       "109 -1.164409           2  \n",
       "3    0.690726           2  \n",
       "24  -0.760004           2  \n",
       "36   0.452650           2  "
      ]
     },
     "execution_count": 83,
     "metadata": {},
     "output_type": "execute_result"
    }
   ],
   "source": [
    "poor_countries.sort_values(['child_mort', 'income', 'gdpp'], ascending = False).head(10)"
   ]
  },
  {
   "cell_type": "markdown",
   "metadata": {},
   "source": [
    "Out of a total of 46 countries which we labelled as poor countries, the above mentioned countries have the highest child mortality rate in the world, also these countries have a really low GDP per capita coupled with a meagre income. This ends up being a vicious cycle of poverty wherein poverty and lack of resources leads to higher child mortality rates."
   ]
  }
 ],
 "metadata": {
  "kernelspec": {
   "display_name": "Python 3",
   "language": "python",
   "name": "python3"
  },
  "language_info": {
   "codemirror_mode": {
    "name": "ipython",
    "version": 3
   },
   "file_extension": ".py",
   "mimetype": "text/x-python",
   "name": "python",
   "nbconvert_exporter": "python",
   "pygments_lexer": "ipython3",
   "version": "3.7.0"
  }
 },
 "nbformat": 4,
 "nbformat_minor": 2
}
